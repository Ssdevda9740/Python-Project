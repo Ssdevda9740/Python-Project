{
 "cells": [
  {
   "cell_type": "code",
   "execution_count": 41,
   "metadata": {},
   "outputs": [],
   "source": [
    "import pandas as pd\n",
    "import numpy as np\n",
    "import seaborn as sns\n",
    "import matplotlib.pyplot as plt\n",
    "import sklearn"
   ]
  },
  {
   "cell_type": "code",
   "execution_count": 42,
   "metadata": {},
   "outputs": [
    {
     "data": {
      "text/html": [
       "<div>\n",
       "<style scoped>\n",
       "    .dataframe tbody tr th:only-of-type {\n",
       "        vertical-align: middle;\n",
       "    }\n",
       "\n",
       "    .dataframe tbody tr th {\n",
       "        vertical-align: top;\n",
       "    }\n",
       "\n",
       "    .dataframe thead th {\n",
       "        text-align: right;\n",
       "    }\n",
       "</style>\n",
       "<table border=\"1\" class=\"dataframe\">\n",
       "  <thead>\n",
       "    <tr style=\"text-align: right;\">\n",
       "      <th></th>\n",
       "      <th>age</th>\n",
       "      <th>sex</th>\n",
       "      <th>chest pain type</th>\n",
       "      <th>resting blood pr</th>\n",
       "      <th>serum cholestora</th>\n",
       "      <th>fasting blood sugar</th>\n",
       "      <th>resting electrocardiographic result</th>\n",
       "      <th>maximum heart rate achieved</th>\n",
       "      <th>exercise induced angina</th>\n",
       "      <th>ST depression induced by exercise relative to rest</th>\n",
       "      <th>the slope of the peak exercise ST segment</th>\n",
       "      <th>number of major vessels</th>\n",
       "      <th>thal</th>\n",
       "      <th>Result</th>\n",
       "    </tr>\n",
       "  </thead>\n",
       "  <tbody>\n",
       "    <tr>\n",
       "      <th>0</th>\n",
       "      <td>63.0</td>\n",
       "      <td>1.0</td>\n",
       "      <td>1.0</td>\n",
       "      <td>145.0</td>\n",
       "      <td>233.0</td>\n",
       "      <td>1.0</td>\n",
       "      <td>2.0</td>\n",
       "      <td>150.0</td>\n",
       "      <td>0.0</td>\n",
       "      <td>2.3</td>\n",
       "      <td>3.0</td>\n",
       "      <td>0.0</td>\n",
       "      <td>6.0</td>\n",
       "      <td>0</td>\n",
       "    </tr>\n",
       "    <tr>\n",
       "      <th>1</th>\n",
       "      <td>67.0</td>\n",
       "      <td>1.0</td>\n",
       "      <td>4.0</td>\n",
       "      <td>160.0</td>\n",
       "      <td>286.0</td>\n",
       "      <td>0.0</td>\n",
       "      <td>2.0</td>\n",
       "      <td>108.0</td>\n",
       "      <td>1.0</td>\n",
       "      <td>1.5</td>\n",
       "      <td>2.0</td>\n",
       "      <td>3.0</td>\n",
       "      <td>3.0</td>\n",
       "      <td>2</td>\n",
       "    </tr>\n",
       "    <tr>\n",
       "      <th>2</th>\n",
       "      <td>67.0</td>\n",
       "      <td>1.0</td>\n",
       "      <td>4.0</td>\n",
       "      <td>120.0</td>\n",
       "      <td>229.0</td>\n",
       "      <td>0.0</td>\n",
       "      <td>2.0</td>\n",
       "      <td>129.0</td>\n",
       "      <td>1.0</td>\n",
       "      <td>2.6</td>\n",
       "      <td>2.0</td>\n",
       "      <td>2.0</td>\n",
       "      <td>7.0</td>\n",
       "      <td>1</td>\n",
       "    </tr>\n",
       "    <tr>\n",
       "      <th>3</th>\n",
       "      <td>37.0</td>\n",
       "      <td>1.0</td>\n",
       "      <td>3.0</td>\n",
       "      <td>130.0</td>\n",
       "      <td>250.0</td>\n",
       "      <td>0.0</td>\n",
       "      <td>0.0</td>\n",
       "      <td>187.0</td>\n",
       "      <td>0.0</td>\n",
       "      <td>3.5</td>\n",
       "      <td>3.0</td>\n",
       "      <td>0.0</td>\n",
       "      <td>3.0</td>\n",
       "      <td>0</td>\n",
       "    </tr>\n",
       "    <tr>\n",
       "      <th>4</th>\n",
       "      <td>41.0</td>\n",
       "      <td>0.0</td>\n",
       "      <td>2.0</td>\n",
       "      <td>130.0</td>\n",
       "      <td>204.0</td>\n",
       "      <td>0.0</td>\n",
       "      <td>2.0</td>\n",
       "      <td>172.0</td>\n",
       "      <td>0.0</td>\n",
       "      <td>1.4</td>\n",
       "      <td>1.0</td>\n",
       "      <td>0.0</td>\n",
       "      <td>3.0</td>\n",
       "      <td>0</td>\n",
       "    </tr>\n",
       "    <tr>\n",
       "      <th>5</th>\n",
       "      <td>56.0</td>\n",
       "      <td>1.0</td>\n",
       "      <td>2.0</td>\n",
       "      <td>120.0</td>\n",
       "      <td>236.0</td>\n",
       "      <td>0.0</td>\n",
       "      <td>0.0</td>\n",
       "      <td>178.0</td>\n",
       "      <td>0.0</td>\n",
       "      <td>0.8</td>\n",
       "      <td>1.0</td>\n",
       "      <td>0.0</td>\n",
       "      <td>3.0</td>\n",
       "      <td>0</td>\n",
       "    </tr>\n",
       "    <tr>\n",
       "      <th>6</th>\n",
       "      <td>62.0</td>\n",
       "      <td>0.0</td>\n",
       "      <td>4.0</td>\n",
       "      <td>140.0</td>\n",
       "      <td>268.0</td>\n",
       "      <td>0.0</td>\n",
       "      <td>2.0</td>\n",
       "      <td>160.0</td>\n",
       "      <td>0.0</td>\n",
       "      <td>3.6</td>\n",
       "      <td>3.0</td>\n",
       "      <td>2.0</td>\n",
       "      <td>3.0</td>\n",
       "      <td>3</td>\n",
       "    </tr>\n",
       "    <tr>\n",
       "      <th>7</th>\n",
       "      <td>57.0</td>\n",
       "      <td>0.0</td>\n",
       "      <td>4.0</td>\n",
       "      <td>120.0</td>\n",
       "      <td>354.0</td>\n",
       "      <td>0.0</td>\n",
       "      <td>0.0</td>\n",
       "      <td>163.0</td>\n",
       "      <td>1.0</td>\n",
       "      <td>0.6</td>\n",
       "      <td>1.0</td>\n",
       "      <td>0.0</td>\n",
       "      <td>3.0</td>\n",
       "      <td>0</td>\n",
       "    </tr>\n",
       "    <tr>\n",
       "      <th>8</th>\n",
       "      <td>63.0</td>\n",
       "      <td>1.0</td>\n",
       "      <td>4.0</td>\n",
       "      <td>130.0</td>\n",
       "      <td>254.0</td>\n",
       "      <td>0.0</td>\n",
       "      <td>2.0</td>\n",
       "      <td>147.0</td>\n",
       "      <td>0.0</td>\n",
       "      <td>1.4</td>\n",
       "      <td>2.0</td>\n",
       "      <td>1.0</td>\n",
       "      <td>7.0</td>\n",
       "      <td>2</td>\n",
       "    </tr>\n",
       "    <tr>\n",
       "      <th>9</th>\n",
       "      <td>53.0</td>\n",
       "      <td>1.0</td>\n",
       "      <td>4.0</td>\n",
       "      <td>140.0</td>\n",
       "      <td>203.0</td>\n",
       "      <td>1.0</td>\n",
       "      <td>2.0</td>\n",
       "      <td>155.0</td>\n",
       "      <td>1.0</td>\n",
       "      <td>3.1</td>\n",
       "      <td>3.0</td>\n",
       "      <td>0.0</td>\n",
       "      <td>7.0</td>\n",
       "      <td>1</td>\n",
       "    </tr>\n",
       "  </tbody>\n",
       "</table>\n",
       "</div>"
      ],
      "text/plain": [
       "    age  sex  chest pain type  resting blood pr  serum cholestora  \\\n",
       "0  63.0  1.0              1.0             145.0             233.0   \n",
       "1  67.0  1.0              4.0             160.0             286.0   \n",
       "2  67.0  1.0              4.0             120.0             229.0   \n",
       "3  37.0  1.0              3.0             130.0             250.0   \n",
       "4  41.0  0.0              2.0             130.0             204.0   \n",
       "5  56.0  1.0              2.0             120.0             236.0   \n",
       "6  62.0  0.0              4.0             140.0             268.0   \n",
       "7  57.0  0.0              4.0             120.0             354.0   \n",
       "8  63.0  1.0              4.0             130.0             254.0   \n",
       "9  53.0  1.0              4.0             140.0             203.0   \n",
       "\n",
       "   fasting blood sugar  resting electrocardiographic result  \\\n",
       "0                  1.0                                  2.0   \n",
       "1                  0.0                                  2.0   \n",
       "2                  0.0                                  2.0   \n",
       "3                  0.0                                  0.0   \n",
       "4                  0.0                                  2.0   \n",
       "5                  0.0                                  0.0   \n",
       "6                  0.0                                  2.0   \n",
       "7                  0.0                                  0.0   \n",
       "8                  0.0                                  2.0   \n",
       "9                  1.0                                  2.0   \n",
       "\n",
       "    maximum heart rate achieved  exercise induced angina  \\\n",
       "0                         150.0                      0.0   \n",
       "1                         108.0                      1.0   \n",
       "2                         129.0                      1.0   \n",
       "3                         187.0                      0.0   \n",
       "4                         172.0                      0.0   \n",
       "5                         178.0                      0.0   \n",
       "6                         160.0                      0.0   \n",
       "7                         163.0                      1.0   \n",
       "8                         147.0                      0.0   \n",
       "9                         155.0                      1.0   \n",
       "\n",
       "   ST depression induced by exercise relative to rest  \\\n",
       "0                                                2.3    \n",
       "1                                                1.5    \n",
       "2                                                2.6    \n",
       "3                                                3.5    \n",
       "4                                                1.4    \n",
       "5                                                0.8    \n",
       "6                                                3.6    \n",
       "7                                                0.6    \n",
       "8                                                1.4    \n",
       "9                                                3.1    \n",
       "\n",
       "   the slope of the peak exercise ST segment number of major vessels thal  \\\n",
       "0                                        3.0                     0.0  6.0   \n",
       "1                                        2.0                     3.0  3.0   \n",
       "2                                        2.0                     2.0  7.0   \n",
       "3                                        3.0                     0.0  3.0   \n",
       "4                                        1.0                     0.0  3.0   \n",
       "5                                        1.0                     0.0  3.0   \n",
       "6                                        3.0                     2.0  3.0   \n",
       "7                                        1.0                     0.0  3.0   \n",
       "8                                        2.0                     1.0  7.0   \n",
       "9                                        3.0                     0.0  7.0   \n",
       "\n",
       "   Result  \n",
       "0       0  \n",
       "1       2  \n",
       "2       1  \n",
       "3       0  \n",
       "4       0  \n",
       "5       0  \n",
       "6       3  \n",
       "7       0  \n",
       "8       2  \n",
       "9       1  "
      ]
     },
     "execution_count": 42,
     "metadata": {},
     "output_type": "execute_result"
    }
   ],
   "source": [
    "ds=pd.read_csv('Heart_disease.csv')\n",
    "ds.head(10)"
   ]
  },
  {
   "cell_type": "code",
   "execution_count": null,
   "metadata": {},
   "outputs": [],
   "source": []
  },
  {
   "cell_type": "code",
   "execution_count": 43,
   "metadata": {},
   "outputs": [
    {
     "data": {
      "text/html": [
       "<div>\n",
       "<style scoped>\n",
       "    .dataframe tbody tr th:only-of-type {\n",
       "        vertical-align: middle;\n",
       "    }\n",
       "\n",
       "    .dataframe tbody tr th {\n",
       "        vertical-align: top;\n",
       "    }\n",
       "\n",
       "    .dataframe thead th {\n",
       "        text-align: right;\n",
       "    }\n",
       "</style>\n",
       "<table border=\"1\" class=\"dataframe\">\n",
       "  <thead>\n",
       "    <tr style=\"text-align: right;\">\n",
       "      <th></th>\n",
       "      <th>age</th>\n",
       "      <th>sex</th>\n",
       "      <th>chest pain type</th>\n",
       "      <th>resting blood pr</th>\n",
       "      <th>serum cholestora</th>\n",
       "      <th>fasting blood sugar</th>\n",
       "      <th>resting electrocardiographic result</th>\n",
       "      <th>maximum heart rate achieved</th>\n",
       "      <th>exercise induced angina</th>\n",
       "      <th>ST depression induced by exercise relative to rest</th>\n",
       "      <th>the slope of the peak exercise ST segment</th>\n",
       "      <th>Result</th>\n",
       "    </tr>\n",
       "  </thead>\n",
       "  <tbody>\n",
       "    <tr>\n",
       "      <th>age</th>\n",
       "      <td>1.000000</td>\n",
       "      <td>-0.097542</td>\n",
       "      <td>0.104139</td>\n",
       "      <td>0.284946</td>\n",
       "      <td>0.208950</td>\n",
       "      <td>0.118530</td>\n",
       "      <td>0.148868</td>\n",
       "      <td>-0.393806</td>\n",
       "      <td>0.091661</td>\n",
       "      <td>0.203805</td>\n",
       "      <td>0.161770</td>\n",
       "      <td>0.222853</td>\n",
       "    </tr>\n",
       "    <tr>\n",
       "      <th>sex</th>\n",
       "      <td>-0.097542</td>\n",
       "      <td>1.000000</td>\n",
       "      <td>0.010084</td>\n",
       "      <td>-0.064456</td>\n",
       "      <td>-0.199915</td>\n",
       "      <td>0.047862</td>\n",
       "      <td>0.021647</td>\n",
       "      <td>-0.048663</td>\n",
       "      <td>0.146201</td>\n",
       "      <td>0.102173</td>\n",
       "      <td>0.037533</td>\n",
       "      <td>0.224469</td>\n",
       "    </tr>\n",
       "    <tr>\n",
       "      <th>chest pain type</th>\n",
       "      <td>0.104139</td>\n",
       "      <td>0.010084</td>\n",
       "      <td>1.000000</td>\n",
       "      <td>-0.036077</td>\n",
       "      <td>0.072319</td>\n",
       "      <td>-0.039975</td>\n",
       "      <td>0.067505</td>\n",
       "      <td>-0.334422</td>\n",
       "      <td>0.384060</td>\n",
       "      <td>0.202277</td>\n",
       "      <td>0.152050</td>\n",
       "      <td>0.407075</td>\n",
       "    </tr>\n",
       "    <tr>\n",
       "      <th>resting blood pr</th>\n",
       "      <td>0.284946</td>\n",
       "      <td>-0.064456</td>\n",
       "      <td>-0.036077</td>\n",
       "      <td>1.000000</td>\n",
       "      <td>0.130120</td>\n",
       "      <td>0.175340</td>\n",
       "      <td>0.146560</td>\n",
       "      <td>-0.045351</td>\n",
       "      <td>0.064762</td>\n",
       "      <td>0.189171</td>\n",
       "      <td>0.117382</td>\n",
       "      <td>0.157754</td>\n",
       "    </tr>\n",
       "    <tr>\n",
       "      <th>serum cholestora</th>\n",
       "      <td>0.208950</td>\n",
       "      <td>-0.199915</td>\n",
       "      <td>0.072319</td>\n",
       "      <td>0.130120</td>\n",
       "      <td>1.000000</td>\n",
       "      <td>0.009841</td>\n",
       "      <td>0.171043</td>\n",
       "      <td>-0.003432</td>\n",
       "      <td>0.061310</td>\n",
       "      <td>0.046564</td>\n",
       "      <td>-0.004062</td>\n",
       "      <td>0.070909</td>\n",
       "    </tr>\n",
       "    <tr>\n",
       "      <th>fasting blood sugar</th>\n",
       "      <td>0.118530</td>\n",
       "      <td>0.047862</td>\n",
       "      <td>-0.039975</td>\n",
       "      <td>0.175340</td>\n",
       "      <td>0.009841</td>\n",
       "      <td>1.000000</td>\n",
       "      <td>0.069564</td>\n",
       "      <td>-0.007854</td>\n",
       "      <td>0.025665</td>\n",
       "      <td>0.005747</td>\n",
       "      <td>0.059894</td>\n",
       "      <td>0.059186</td>\n",
       "    </tr>\n",
       "    <tr>\n",
       "      <th>resting electrocardiographic result</th>\n",
       "      <td>0.148868</td>\n",
       "      <td>0.021647</td>\n",
       "      <td>0.067505</td>\n",
       "      <td>0.146560</td>\n",
       "      <td>0.171043</td>\n",
       "      <td>0.069564</td>\n",
       "      <td>1.000000</td>\n",
       "      <td>-0.083389</td>\n",
       "      <td>0.084867</td>\n",
       "      <td>0.114133</td>\n",
       "      <td>0.133946</td>\n",
       "      <td>0.183696</td>\n",
       "    </tr>\n",
       "    <tr>\n",
       "      <th>maximum heart rate achieved</th>\n",
       "      <td>-0.393806</td>\n",
       "      <td>-0.048663</td>\n",
       "      <td>-0.334422</td>\n",
       "      <td>-0.045351</td>\n",
       "      <td>-0.003432</td>\n",
       "      <td>-0.007854</td>\n",
       "      <td>-0.083389</td>\n",
       "      <td>1.000000</td>\n",
       "      <td>-0.378103</td>\n",
       "      <td>-0.343085</td>\n",
       "      <td>-0.385601</td>\n",
       "      <td>-0.415040</td>\n",
       "    </tr>\n",
       "    <tr>\n",
       "      <th>exercise induced angina</th>\n",
       "      <td>0.091661</td>\n",
       "      <td>0.146201</td>\n",
       "      <td>0.384060</td>\n",
       "      <td>0.064762</td>\n",
       "      <td>0.061310</td>\n",
       "      <td>0.025665</td>\n",
       "      <td>0.084867</td>\n",
       "      <td>-0.378103</td>\n",
       "      <td>1.000000</td>\n",
       "      <td>0.288223</td>\n",
       "      <td>0.257748</td>\n",
       "      <td>0.397057</td>\n",
       "    </tr>\n",
       "    <tr>\n",
       "      <th>ST depression induced by exercise relative to rest</th>\n",
       "      <td>0.203805</td>\n",
       "      <td>0.102173</td>\n",
       "      <td>0.202277</td>\n",
       "      <td>0.189171</td>\n",
       "      <td>0.046564</td>\n",
       "      <td>0.005747</td>\n",
       "      <td>0.114133</td>\n",
       "      <td>-0.343085</td>\n",
       "      <td>0.288223</td>\n",
       "      <td>1.000000</td>\n",
       "      <td>0.577537</td>\n",
       "      <td>0.504092</td>\n",
       "    </tr>\n",
       "    <tr>\n",
       "      <th>the slope of the peak exercise ST segment</th>\n",
       "      <td>0.161770</td>\n",
       "      <td>0.037533</td>\n",
       "      <td>0.152050</td>\n",
       "      <td>0.117382</td>\n",
       "      <td>-0.004062</td>\n",
       "      <td>0.059894</td>\n",
       "      <td>0.133946</td>\n",
       "      <td>-0.385601</td>\n",
       "      <td>0.257748</td>\n",
       "      <td>0.577537</td>\n",
       "      <td>1.000000</td>\n",
       "      <td>0.377957</td>\n",
       "    </tr>\n",
       "    <tr>\n",
       "      <th>Result</th>\n",
       "      <td>0.222853</td>\n",
       "      <td>0.224469</td>\n",
       "      <td>0.407075</td>\n",
       "      <td>0.157754</td>\n",
       "      <td>0.070909</td>\n",
       "      <td>0.059186</td>\n",
       "      <td>0.183696</td>\n",
       "      <td>-0.415040</td>\n",
       "      <td>0.397057</td>\n",
       "      <td>0.504092</td>\n",
       "      <td>0.377957</td>\n",
       "      <td>1.000000</td>\n",
       "    </tr>\n",
       "  </tbody>\n",
       "</table>\n",
       "</div>"
      ],
      "text/plain": [
       "                                                         age       sex  \\\n",
       "age                                                 1.000000 -0.097542   \n",
       "sex                                                -0.097542  1.000000   \n",
       "chest pain type                                     0.104139  0.010084   \n",
       "resting blood pr                                    0.284946 -0.064456   \n",
       "serum cholestora                                    0.208950 -0.199915   \n",
       "fasting blood sugar                                 0.118530  0.047862   \n",
       "resting electrocardiographic result                 0.148868  0.021647   \n",
       " maximum heart rate achieved                       -0.393806 -0.048663   \n",
       "exercise induced angina                             0.091661  0.146201   \n",
       "ST depression induced by exercise relative to rest  0.203805  0.102173   \n",
       "the slope of the peak exercise ST segment           0.161770  0.037533   \n",
       "Result                                              0.222853  0.224469   \n",
       "\n",
       "                                                    chest pain type  \\\n",
       "age                                                        0.104139   \n",
       "sex                                                        0.010084   \n",
       "chest pain type                                            1.000000   \n",
       "resting blood pr                                          -0.036077   \n",
       "serum cholestora                                           0.072319   \n",
       "fasting blood sugar                                       -0.039975   \n",
       "resting electrocardiographic result                        0.067505   \n",
       " maximum heart rate achieved                              -0.334422   \n",
       "exercise induced angina                                    0.384060   \n",
       "ST depression induced by exercise relative to rest         0.202277   \n",
       "the slope of the peak exercise ST segment                  0.152050   \n",
       "Result                                                     0.407075   \n",
       "\n",
       "                                                    resting blood pr  \\\n",
       "age                                                         0.284946   \n",
       "sex                                                        -0.064456   \n",
       "chest pain type                                            -0.036077   \n",
       "resting blood pr                                            1.000000   \n",
       "serum cholestora                                            0.130120   \n",
       "fasting blood sugar                                         0.175340   \n",
       "resting electrocardiographic result                         0.146560   \n",
       " maximum heart rate achieved                               -0.045351   \n",
       "exercise induced angina                                     0.064762   \n",
       "ST depression induced by exercise relative to rest          0.189171   \n",
       "the slope of the peak exercise ST segment                   0.117382   \n",
       "Result                                                      0.157754   \n",
       "\n",
       "                                                    serum cholestora  \\\n",
       "age                                                         0.208950   \n",
       "sex                                                        -0.199915   \n",
       "chest pain type                                             0.072319   \n",
       "resting blood pr                                            0.130120   \n",
       "serum cholestora                                            1.000000   \n",
       "fasting blood sugar                                         0.009841   \n",
       "resting electrocardiographic result                         0.171043   \n",
       " maximum heart rate achieved                               -0.003432   \n",
       "exercise induced angina                                     0.061310   \n",
       "ST depression induced by exercise relative to rest          0.046564   \n",
       "the slope of the peak exercise ST segment                  -0.004062   \n",
       "Result                                                      0.070909   \n",
       "\n",
       "                                                    fasting blood sugar  \\\n",
       "age                                                            0.118530   \n",
       "sex                                                            0.047862   \n",
       "chest pain type                                               -0.039975   \n",
       "resting blood pr                                               0.175340   \n",
       "serum cholestora                                               0.009841   \n",
       "fasting blood sugar                                            1.000000   \n",
       "resting electrocardiographic result                            0.069564   \n",
       " maximum heart rate achieved                                  -0.007854   \n",
       "exercise induced angina                                        0.025665   \n",
       "ST depression induced by exercise relative to rest             0.005747   \n",
       "the slope of the peak exercise ST segment                      0.059894   \n",
       "Result                                                         0.059186   \n",
       "\n",
       "                                                    resting electrocardiographic result  \\\n",
       "age                                                                            0.148868   \n",
       "sex                                                                            0.021647   \n",
       "chest pain type                                                                0.067505   \n",
       "resting blood pr                                                               0.146560   \n",
       "serum cholestora                                                               0.171043   \n",
       "fasting blood sugar                                                            0.069564   \n",
       "resting electrocardiographic result                                            1.000000   \n",
       " maximum heart rate achieved                                                  -0.083389   \n",
       "exercise induced angina                                                        0.084867   \n",
       "ST depression induced by exercise relative to rest                             0.114133   \n",
       "the slope of the peak exercise ST segment                                      0.133946   \n",
       "Result                                                                         0.183696   \n",
       "\n",
       "                                                     maximum heart rate achieved  \\\n",
       "age                                                                    -0.393806   \n",
       "sex                                                                    -0.048663   \n",
       "chest pain type                                                        -0.334422   \n",
       "resting blood pr                                                       -0.045351   \n",
       "serum cholestora                                                       -0.003432   \n",
       "fasting blood sugar                                                    -0.007854   \n",
       "resting electrocardiographic result                                    -0.083389   \n",
       " maximum heart rate achieved                                            1.000000   \n",
       "exercise induced angina                                                -0.378103   \n",
       "ST depression induced by exercise relative to rest                     -0.343085   \n",
       "the slope of the peak exercise ST segment                              -0.385601   \n",
       "Result                                                                 -0.415040   \n",
       "\n",
       "                                                    exercise induced angina  \\\n",
       "age                                                                0.091661   \n",
       "sex                                                                0.146201   \n",
       "chest pain type                                                    0.384060   \n",
       "resting blood pr                                                   0.064762   \n",
       "serum cholestora                                                   0.061310   \n",
       "fasting blood sugar                                                0.025665   \n",
       "resting electrocardiographic result                                0.084867   \n",
       " maximum heart rate achieved                                      -0.378103   \n",
       "exercise induced angina                                            1.000000   \n",
       "ST depression induced by exercise relative to rest                 0.288223   \n",
       "the slope of the peak exercise ST segment                          0.257748   \n",
       "Result                                                             0.397057   \n",
       "\n",
       "                                                    ST depression induced by exercise relative to rest  \\\n",
       "age                                                                                          0.203805    \n",
       "sex                                                                                          0.102173    \n",
       "chest pain type                                                                              0.202277    \n",
       "resting blood pr                                                                             0.189171    \n",
       "serum cholestora                                                                             0.046564    \n",
       "fasting blood sugar                                                                          0.005747    \n",
       "resting electrocardiographic result                                                          0.114133    \n",
       " maximum heart rate achieved                                                                -0.343085    \n",
       "exercise induced angina                                                                      0.288223    \n",
       "ST depression induced by exercise relative to rest                                           1.000000    \n",
       "the slope of the peak exercise ST segment                                                    0.577537    \n",
       "Result                                                                                       0.504092    \n",
       "\n",
       "                                                    the slope of the peak exercise ST segment  \\\n",
       "age                                                                                  0.161770   \n",
       "sex                                                                                  0.037533   \n",
       "chest pain type                                                                      0.152050   \n",
       "resting blood pr                                                                     0.117382   \n",
       "serum cholestora                                                                    -0.004062   \n",
       "fasting blood sugar                                                                  0.059894   \n",
       "resting electrocardiographic result                                                  0.133946   \n",
       " maximum heart rate achieved                                                        -0.385601   \n",
       "exercise induced angina                                                              0.257748   \n",
       "ST depression induced by exercise relative to rest                                   0.577537   \n",
       "the slope of the peak exercise ST segment                                            1.000000   \n",
       "Result                                                                               0.377957   \n",
       "\n",
       "                                                      Result  \n",
       "age                                                 0.222853  \n",
       "sex                                                 0.224469  \n",
       "chest pain type                                     0.407075  \n",
       "resting blood pr                                    0.157754  \n",
       "serum cholestora                                    0.070909  \n",
       "fasting blood sugar                                 0.059186  \n",
       "resting electrocardiographic result                 0.183696  \n",
       " maximum heart rate achieved                       -0.415040  \n",
       "exercise induced angina                             0.397057  \n",
       "ST depression induced by exercise relative to rest  0.504092  \n",
       "the slope of the peak exercise ST segment           0.377957  \n",
       "Result                                              1.000000  "
      ]
     },
     "execution_count": 43,
     "metadata": {},
     "output_type": "execute_result"
    }
   ],
   "source": [
    "ds.corr()"
   ]
  },
  {
   "cell_type": "code",
   "execution_count": null,
   "metadata": {},
   "outputs": [],
   "source": []
  },
  {
   "cell_type": "code",
   "execution_count": 44,
   "metadata": {},
   "outputs": [
    {
     "data": {
      "text/html": [
       "<div>\n",
       "<style scoped>\n",
       "    .dataframe tbody tr th:only-of-type {\n",
       "        vertical-align: middle;\n",
       "    }\n",
       "\n",
       "    .dataframe tbody tr th {\n",
       "        vertical-align: top;\n",
       "    }\n",
       "\n",
       "    .dataframe thead th {\n",
       "        text-align: right;\n",
       "    }\n",
       "</style>\n",
       "<table border=\"1\" class=\"dataframe\">\n",
       "  <thead>\n",
       "    <tr style=\"text-align: right;\">\n",
       "      <th></th>\n",
       "      <th>age</th>\n",
       "      <th>sex</th>\n",
       "      <th>chest pain type</th>\n",
       "      <th>resting blood pr</th>\n",
       "      <th>serum cholestora</th>\n",
       "      <th>fasting blood sugar</th>\n",
       "      <th>resting electrocardiographic result</th>\n",
       "      <th>maximum heart rate achieved</th>\n",
       "      <th>exercise induced angina</th>\n",
       "      <th>ST depression induced by exercise relative to rest</th>\n",
       "      <th>the slope of the peak exercise ST segment</th>\n",
       "      <th>Result</th>\n",
       "    </tr>\n",
       "  </thead>\n",
       "  <tbody>\n",
       "    <tr>\n",
       "      <th>count</th>\n",
       "      <td>303.000000</td>\n",
       "      <td>303.000000</td>\n",
       "      <td>303.000000</td>\n",
       "      <td>303.000000</td>\n",
       "      <td>303.000000</td>\n",
       "      <td>303.000000</td>\n",
       "      <td>303.000000</td>\n",
       "      <td>303.000000</td>\n",
       "      <td>303.000000</td>\n",
       "      <td>303.000000</td>\n",
       "      <td>303.000000</td>\n",
       "      <td>303.000000</td>\n",
       "    </tr>\n",
       "    <tr>\n",
       "      <th>mean</th>\n",
       "      <td>54.438944</td>\n",
       "      <td>0.679868</td>\n",
       "      <td>3.158416</td>\n",
       "      <td>131.689769</td>\n",
       "      <td>246.693069</td>\n",
       "      <td>0.148515</td>\n",
       "      <td>0.990099</td>\n",
       "      <td>149.607261</td>\n",
       "      <td>0.326733</td>\n",
       "      <td>1.039604</td>\n",
       "      <td>1.600660</td>\n",
       "      <td>0.937294</td>\n",
       "    </tr>\n",
       "    <tr>\n",
       "      <th>std</th>\n",
       "      <td>9.038662</td>\n",
       "      <td>0.467299</td>\n",
       "      <td>0.960126</td>\n",
       "      <td>17.599748</td>\n",
       "      <td>51.776918</td>\n",
       "      <td>0.356198</td>\n",
       "      <td>0.994971</td>\n",
       "      <td>22.875003</td>\n",
       "      <td>0.469794</td>\n",
       "      <td>1.161075</td>\n",
       "      <td>0.616226</td>\n",
       "      <td>1.228536</td>\n",
       "    </tr>\n",
       "    <tr>\n",
       "      <th>min</th>\n",
       "      <td>29.000000</td>\n",
       "      <td>0.000000</td>\n",
       "      <td>1.000000</td>\n",
       "      <td>94.000000</td>\n",
       "      <td>126.000000</td>\n",
       "      <td>0.000000</td>\n",
       "      <td>0.000000</td>\n",
       "      <td>71.000000</td>\n",
       "      <td>0.000000</td>\n",
       "      <td>0.000000</td>\n",
       "      <td>1.000000</td>\n",
       "      <td>0.000000</td>\n",
       "    </tr>\n",
       "    <tr>\n",
       "      <th>25%</th>\n",
       "      <td>48.000000</td>\n",
       "      <td>0.000000</td>\n",
       "      <td>3.000000</td>\n",
       "      <td>120.000000</td>\n",
       "      <td>211.000000</td>\n",
       "      <td>0.000000</td>\n",
       "      <td>0.000000</td>\n",
       "      <td>133.500000</td>\n",
       "      <td>0.000000</td>\n",
       "      <td>0.000000</td>\n",
       "      <td>1.000000</td>\n",
       "      <td>0.000000</td>\n",
       "    </tr>\n",
       "    <tr>\n",
       "      <th>50%</th>\n",
       "      <td>56.000000</td>\n",
       "      <td>1.000000</td>\n",
       "      <td>3.000000</td>\n",
       "      <td>130.000000</td>\n",
       "      <td>241.000000</td>\n",
       "      <td>0.000000</td>\n",
       "      <td>1.000000</td>\n",
       "      <td>153.000000</td>\n",
       "      <td>0.000000</td>\n",
       "      <td>0.800000</td>\n",
       "      <td>2.000000</td>\n",
       "      <td>0.000000</td>\n",
       "    </tr>\n",
       "    <tr>\n",
       "      <th>75%</th>\n",
       "      <td>61.000000</td>\n",
       "      <td>1.000000</td>\n",
       "      <td>4.000000</td>\n",
       "      <td>140.000000</td>\n",
       "      <td>275.000000</td>\n",
       "      <td>0.000000</td>\n",
       "      <td>2.000000</td>\n",
       "      <td>166.000000</td>\n",
       "      <td>1.000000</td>\n",
       "      <td>1.600000</td>\n",
       "      <td>2.000000</td>\n",
       "      <td>2.000000</td>\n",
       "    </tr>\n",
       "    <tr>\n",
       "      <th>max</th>\n",
       "      <td>77.000000</td>\n",
       "      <td>1.000000</td>\n",
       "      <td>4.000000</td>\n",
       "      <td>200.000000</td>\n",
       "      <td>564.000000</td>\n",
       "      <td>1.000000</td>\n",
       "      <td>2.000000</td>\n",
       "      <td>202.000000</td>\n",
       "      <td>1.000000</td>\n",
       "      <td>6.200000</td>\n",
       "      <td>3.000000</td>\n",
       "      <td>4.000000</td>\n",
       "    </tr>\n",
       "  </tbody>\n",
       "</table>\n",
       "</div>"
      ],
      "text/plain": [
       "              age         sex  chest pain type  resting blood pr  \\\n",
       "count  303.000000  303.000000       303.000000        303.000000   \n",
       "mean    54.438944    0.679868         3.158416        131.689769   \n",
       "std      9.038662    0.467299         0.960126         17.599748   \n",
       "min     29.000000    0.000000         1.000000         94.000000   \n",
       "25%     48.000000    0.000000         3.000000        120.000000   \n",
       "50%     56.000000    1.000000         3.000000        130.000000   \n",
       "75%     61.000000    1.000000         4.000000        140.000000   \n",
       "max     77.000000    1.000000         4.000000        200.000000   \n",
       "\n",
       "       serum cholestora  fasting blood sugar  \\\n",
       "count        303.000000           303.000000   \n",
       "mean         246.693069             0.148515   \n",
       "std           51.776918             0.356198   \n",
       "min          126.000000             0.000000   \n",
       "25%          211.000000             0.000000   \n",
       "50%          241.000000             0.000000   \n",
       "75%          275.000000             0.000000   \n",
       "max          564.000000             1.000000   \n",
       "\n",
       "       resting electrocardiographic result   maximum heart rate achieved  \\\n",
       "count                           303.000000                    303.000000   \n",
       "mean                              0.990099                    149.607261   \n",
       "std                               0.994971                     22.875003   \n",
       "min                               0.000000                     71.000000   \n",
       "25%                               0.000000                    133.500000   \n",
       "50%                               1.000000                    153.000000   \n",
       "75%                               2.000000                    166.000000   \n",
       "max                               2.000000                    202.000000   \n",
       "\n",
       "       exercise induced angina  \\\n",
       "count               303.000000   \n",
       "mean                  0.326733   \n",
       "std                   0.469794   \n",
       "min                   0.000000   \n",
       "25%                   0.000000   \n",
       "50%                   0.000000   \n",
       "75%                   1.000000   \n",
       "max                   1.000000   \n",
       "\n",
       "       ST depression induced by exercise relative to rest  \\\n",
       "count                                         303.000000    \n",
       "mean                                            1.039604    \n",
       "std                                             1.161075    \n",
       "min                                             0.000000    \n",
       "25%                                             0.000000    \n",
       "50%                                             0.800000    \n",
       "75%                                             1.600000    \n",
       "max                                             6.200000    \n",
       "\n",
       "       the slope of the peak exercise ST segment      Result  \n",
       "count                                 303.000000  303.000000  \n",
       "mean                                    1.600660    0.937294  \n",
       "std                                     0.616226    1.228536  \n",
       "min                                     1.000000    0.000000  \n",
       "25%                                     1.000000    0.000000  \n",
       "50%                                     2.000000    0.000000  \n",
       "75%                                     2.000000    2.000000  \n",
       "max                                     3.000000    4.000000  "
      ]
     },
     "execution_count": 44,
     "metadata": {},
     "output_type": "execute_result"
    }
   ],
   "source": [
    "ds.describe()"
   ]
  },
  {
   "cell_type": "code",
   "execution_count": null,
   "metadata": {},
   "outputs": [],
   "source": []
  },
  {
   "cell_type": "code",
   "execution_count": 45,
   "metadata": {},
   "outputs": [
    {
     "data": {
      "text/plain": [
       "age                                                   0\n",
       "sex                                                   0\n",
       "chest pain type                                       0\n",
       "resting blood pr                                      0\n",
       "serum cholestora                                      0\n",
       "fasting blood sugar                                   0\n",
       "resting electrocardiographic result                   0\n",
       " maximum heart rate achieved                          0\n",
       "exercise induced angina                               0\n",
       "ST depression induced by exercise relative to rest    0\n",
       "the slope of the peak exercise ST segment             0\n",
       "number of major vessels                               0\n",
       "thal                                                  0\n",
       "Result                                                0\n",
       "dtype: int64"
      ]
     },
     "execution_count": 45,
     "metadata": {},
     "output_type": "execute_result"
    }
   ],
   "source": [
    "ds.isnull().sum()"
   ]
  },
  {
   "cell_type": "code",
   "execution_count": null,
   "metadata": {},
   "outputs": [],
   "source": []
  },
  {
   "cell_type": "code",
   "execution_count": 46,
   "metadata": {},
   "outputs": [
    {
     "data": {
      "text/plain": [
       "<matplotlib.axes._subplots.AxesSubplot at 0xc64edc8>"
      ]
     },
     "execution_count": 46,
     "metadata": {},
     "output_type": "execute_result"
    },
    {
     "data": {
      "image/png": "[encoded data removed]",
      "text/plain": [
       "<Figure size 432x288 with 2 Axes>"
      ]
     },
     "metadata": {
      "needs_background": "light"
     },
     "output_type": "display_data"
    }
   ],
   "source": [
    "sns.heatmap(ds.isnull())"
   ]
  },
  {
   "cell_type": "code",
   "execution_count": 47,
   "metadata": {},
   "outputs": [
    {
     "data": {
      "text/plain": [
       "<matplotlib.axes._subplots.AxesSubplot at 0xc758888>"
      ]
     },
     "execution_count": 47,
     "metadata": {},
     "output_type": "execute_result"
    },
    {
     "data": {
      "image/png": "[encoded data removed]",
      "text/plain": [
       "<Figure size 432x288 with 1 Axes>"
      ]
     },
     "metadata": {
      "needs_background": "light"
     },
     "output_type": "display_data"
    }
   ],
   "source": [
    "sns.countplot(ds['chest pain type'])"
   ]
  },
  {
   "cell_type": "code",
   "execution_count": 48,
   "metadata": {},
   "outputs": [
    {
     "data": {
      "text/plain": [
       "<seaborn.axisgrid.FacetGrid at 0xc7bdf88>"
      ]
     },
     "execution_count": 48,
     "metadata": {},
     "output_type": "execute_result"
    },
    {
     "data": {
      "image/png": "[encoded data removed]",
      "text/plain": [
       "<Figure size 411.875x360 with 1 Axes>"
      ]
     },
     "metadata": {
      "needs_background": "light"
     },
     "output_type": "display_data"
    }
   ],
   "source": [
    "sns.catplot(x='chest pain type', y='resting blood pr', hue='sex', data=ds, kind='bar')"
   ]
  },
  {
   "cell_type": "code",
   "execution_count": 49,
   "metadata": {},
   "outputs": [
    {
     "data": {
      "text/plain": [
       "<matplotlib.axes._subplots.AxesSubplot at 0xc7ccbc8>"
      ]
     },
     "execution_count": 49,
     "metadata": {},
     "output_type": "execute_result"
    },
    {
     "data": {
      "image/png": "[encoded data removed]",
      "text/plain": [
       "<Figure size 432x288 with 1 Axes>"
      ]
     },
     "metadata": {
      "needs_background": "light"
     },
     "output_type": "display_data"
    }
   ],
   "source": [
    "sns.distplot(ds['resting blood pr'])"
   ]
  },
  {
   "cell_type": "code",
   "execution_count": 50,
   "metadata": {},
   "outputs": [
    {
     "data": {
      "text/plain": [
       "age                                                  -0.209060\n",
       "sex                                                  -0.774935\n",
       "chest pain type                                      -0.841754\n",
       "resting blood pr                                      0.706035\n",
       "serum cholestora                                      1.135503\n",
       "fasting blood sugar                                   1.986652\n",
       "resting electrocardiographic result                   0.019900\n",
       " maximum heart rate achieved                         -0.537449\n",
       "exercise induced angina                               0.742532\n",
       "ST depression induced by exercise relative to rest    1.269720\n",
       "the slope of the peak exercise ST segment             0.508316\n",
       "Result                                                1.058496\n",
       "dtype: float64"
      ]
     },
     "execution_count": 50,
     "metadata": {},
     "output_type": "execute_result"
    }
   ],
   "source": [
    "ds.skew()"
   ]
  },
  {
   "cell_type": "code",
   "execution_count": 51,
   "metadata": {},
   "outputs": [
    {
     "data": {
      "text/plain": [
       "(array([149.,  50.,  40.,  24.,  20.,  11.,   6.,   1.,   0.,   2.]),\n",
       " array([0.  , 0.62, 1.24, 1.86, 2.48, 3.1 , 3.72, 4.34, 4.96, 5.58, 6.2 ]),\n",
       " <a list of 10 Patch objects>)"
      ]
     },
     "execution_count": 51,
     "metadata": {},
     "output_type": "execute_result"
    },
    {
     "data": {
      "image/png": "[encoded data removed]",
      "text/plain": [
       "<Figure size 432x288 with 1 Axes>"
      ]
     },
     "metadata": {
      "needs_background": "light"
     },
     "output_type": "display_data"
    }
   ],
   "source": [
    "plt.hist(ds['ST depression induced by exercise relative to rest'] , bins=10)"
   ]
  },
  {
   "cell_type": "code",
   "execution_count": 52,
   "metadata": {},
   "outputs": [
    {
     "data": {
      "text/plain": [
       "(array([ 23.,   0.,   0.,  50.,   0.,   0.,  86.,   0.,   0., 144.]),\n",
       " array([1. , 1.3, 1.6, 1.9, 2.2, 2.5, 2.8, 3.1, 3.4, 3.7, 4. ]),\n",
       " <a list of 10 Patch objects>)"
      ]
     },
     "execution_count": 52,
     "metadata": {},
     "output_type": "execute_result"
    },
    {
     "data": {
      "image/png": "[encoded data removed]",
      "text/plain": [
       "<Figure size 432x288 with 1 Axes>"
      ]
     },
     "metadata": {
      "needs_background": "light"
     },
     "output_type": "display_data"
    }
   ],
   "source": [
    "plt.hist(ds['chest pain type'], bins=10)"
   ]
  },
  {
   "cell_type": "code",
   "execution_count": 53,
   "metadata": {},
   "outputs": [],
   "source": [
    "ds['serum cholestora']=np.sqrt(ds['serum cholestora'])\n",
    "ds['fasting blood sugar']=np.sqrt(ds['fasting blood sugar'])\n"
   ]
  },
  {
   "cell_type": "code",
   "execution_count": 54,
   "metadata": {},
   "outputs": [
    {
     "data": {
      "text/plain": [
       "{'whiskers': [<matplotlib.lines.Line2D at 0xe082fc8>,\n",
       "  <matplotlib.lines.Line2D at 0xe086a88>],\n",
       " 'caps': [<matplotlib.lines.Line2D at 0xe086b88>,\n",
       "  <matplotlib.lines.Line2D at 0xe08aa08>],\n",
       " 'boxes': [<matplotlib.lines.Line2D at 0xe082848>],\n",
       " 'medians': [<matplotlib.lines.Line2D at 0xe08ab08>],\n",
       " 'fliers': [<matplotlib.lines.Line2D at 0xe08e988>],\n",
       " 'means': []}"
      ]
     },
     "execution_count": 54,
     "metadata": {},
     "output_type": "execute_result"
    },
    {
     "data": {
      "image/png": "[encoded data removed]",
      "text/plain": [
       "<Figure size 432x288 with 1 Axes>"
      ]
     },
     "metadata": {
      "needs_background": "light"
     },
     "output_type": "display_data"
    }
   ],
   "source": [
    "plt.boxplot(ds['resting blood pr'])"
   ]
  },
  {
   "cell_type": "code",
   "execution_count": 55,
   "metadata": {},
   "outputs": [
    {
     "data": {
      "text/plain": [
       "{'whiskers': [<matplotlib.lines.Line2D at 0xe0ebac8>,\n",
       "  <matplotlib.lines.Line2D at 0xe0ebbc8>],\n",
       " 'caps': [<matplotlib.lines.Line2D at 0xe0efa88>,\n",
       "  <matplotlib.lines.Line2D at 0xe0efb88>],\n",
       " 'boxes': [<matplotlib.lines.Line2D at 0xe0e5f88>],\n",
       " 'medians': [<matplotlib.lines.Line2D at 0xe0f3a08>],\n",
       " 'fliers': [<matplotlib.lines.Line2D at 0xe0f3b08>],\n",
       " 'means': []}"
      ]
     },
     "execution_count": 55,
     "metadata": {},
     "output_type": "execute_result"
    },
    {
     "data": {
      "image/png": "[encoded data removed]",
      "text/plain": [
       "<Figure size 432x288 with 1 Axes>"
      ]
     },
     "metadata": {
      "needs_background": "light"
     },
     "output_type": "display_data"
    }
   ],
   "source": [
    "plt.boxplot(ds['serum cholestora'])"
   ]
  },
  {
   "cell_type": "code",
   "execution_count": 56,
   "metadata": {},
   "outputs": [
    {
     "data": {
      "text/html": [
       "<div>\n",
       "<style scoped>\n",
       "    .dataframe tbody tr th:only-of-type {\n",
       "        vertical-align: middle;\n",
       "    }\n",
       "\n",
       "    .dataframe tbody tr th {\n",
       "        vertical-align: top;\n",
       "    }\n",
       "\n",
       "    .dataframe thead th {\n",
       "        text-align: right;\n",
       "    }\n",
       "</style>\n",
       "<table border=\"1\" class=\"dataframe\">\n",
       "  <thead>\n",
       "    <tr style=\"text-align: right;\">\n",
       "      <th></th>\n",
       "      <th>age</th>\n",
       "      <th>sex</th>\n",
       "      <th>chest pain type</th>\n",
       "      <th>resting blood pr</th>\n",
       "      <th>serum cholestora</th>\n",
       "      <th>fasting blood sugar</th>\n",
       "      <th>resting electrocardiographic result</th>\n",
       "      <th>maximum heart rate achieved</th>\n",
       "      <th>exercise induced angina</th>\n",
       "      <th>ST depression induced by exercise relative to rest</th>\n",
       "      <th>the slope of the peak exercise ST segment</th>\n",
       "      <th>number of major vessels</th>\n",
       "      <th>thal</th>\n",
       "      <th>Result</th>\n",
       "    </tr>\n",
       "  </thead>\n",
       "  <tbody>\n",
       "    <tr>\n",
       "      <th>0</th>\n",
       "      <td>63.0</td>\n",
       "      <td>1.0</td>\n",
       "      <td>1.0</td>\n",
       "      <td>145.0</td>\n",
       "      <td>15.264338</td>\n",
       "      <td>1.0</td>\n",
       "      <td>2.0</td>\n",
       "      <td>150.0</td>\n",
       "      <td>0.0</td>\n",
       "      <td>2.3</td>\n",
       "      <td>3.0</td>\n",
       "      <td>0.0</td>\n",
       "      <td>6.0</td>\n",
       "      <td>0</td>\n",
       "    </tr>\n",
       "    <tr>\n",
       "      <th>1</th>\n",
       "      <td>67.0</td>\n",
       "      <td>1.0</td>\n",
       "      <td>4.0</td>\n",
       "      <td>160.0</td>\n",
       "      <td>16.911535</td>\n",
       "      <td>0.0</td>\n",
       "      <td>2.0</td>\n",
       "      <td>108.0</td>\n",
       "      <td>1.0</td>\n",
       "      <td>1.5</td>\n",
       "      <td>2.0</td>\n",
       "      <td>3.0</td>\n",
       "      <td>3.0</td>\n",
       "      <td>2</td>\n",
       "    </tr>\n",
       "    <tr>\n",
       "      <th>2</th>\n",
       "      <td>67.0</td>\n",
       "      <td>1.0</td>\n",
       "      <td>4.0</td>\n",
       "      <td>120.0</td>\n",
       "      <td>15.132746</td>\n",
       "      <td>0.0</td>\n",
       "      <td>2.0</td>\n",
       "      <td>129.0</td>\n",
       "      <td>1.0</td>\n",
       "      <td>2.6</td>\n",
       "      <td>2.0</td>\n",
       "      <td>2.0</td>\n",
       "      <td>7.0</td>\n",
       "      <td>1</td>\n",
       "    </tr>\n",
       "    <tr>\n",
       "      <th>3</th>\n",
       "      <td>37.0</td>\n",
       "      <td>1.0</td>\n",
       "      <td>3.0</td>\n",
       "      <td>130.0</td>\n",
       "      <td>15.811388</td>\n",
       "      <td>0.0</td>\n",
       "      <td>0.0</td>\n",
       "      <td>187.0</td>\n",
       "      <td>0.0</td>\n",
       "      <td>3.5</td>\n",
       "      <td>3.0</td>\n",
       "      <td>0.0</td>\n",
       "      <td>3.0</td>\n",
       "      <td>0</td>\n",
       "    </tr>\n",
       "    <tr>\n",
       "      <th>4</th>\n",
       "      <td>41.0</td>\n",
       "      <td>0.0</td>\n",
       "      <td>2.0</td>\n",
       "      <td>130.0</td>\n",
       "      <td>14.282857</td>\n",
       "      <td>0.0</td>\n",
       "      <td>2.0</td>\n",
       "      <td>172.0</td>\n",
       "      <td>0.0</td>\n",
       "      <td>1.4</td>\n",
       "      <td>1.0</td>\n",
       "      <td>0.0</td>\n",
       "      <td>3.0</td>\n",
       "      <td>0</td>\n",
       "    </tr>\n",
       "    <tr>\n",
       "      <th>5</th>\n",
       "      <td>56.0</td>\n",
       "      <td>1.0</td>\n",
       "      <td>2.0</td>\n",
       "      <td>120.0</td>\n",
       "      <td>15.362291</td>\n",
       "      <td>0.0</td>\n",
       "      <td>0.0</td>\n",
       "      <td>178.0</td>\n",
       "      <td>0.0</td>\n",
       "      <td>0.8</td>\n",
       "      <td>1.0</td>\n",
       "      <td>0.0</td>\n",
       "      <td>3.0</td>\n",
       "      <td>0</td>\n",
       "    </tr>\n",
       "    <tr>\n",
       "      <th>6</th>\n",
       "      <td>62.0</td>\n",
       "      <td>0.0</td>\n",
       "      <td>4.0</td>\n",
       "      <td>140.0</td>\n",
       "      <td>16.370706</td>\n",
       "      <td>0.0</td>\n",
       "      <td>2.0</td>\n",
       "      <td>160.0</td>\n",
       "      <td>0.0</td>\n",
       "      <td>3.6</td>\n",
       "      <td>3.0</td>\n",
       "      <td>2.0</td>\n",
       "      <td>3.0</td>\n",
       "      <td>3</td>\n",
       "    </tr>\n",
       "    <tr>\n",
       "      <th>7</th>\n",
       "      <td>57.0</td>\n",
       "      <td>0.0</td>\n",
       "      <td>4.0</td>\n",
       "      <td>120.0</td>\n",
       "      <td>18.814888</td>\n",
       "      <td>0.0</td>\n",
       "      <td>0.0</td>\n",
       "      <td>163.0</td>\n",
       "      <td>1.0</td>\n",
       "      <td>0.6</td>\n",
       "      <td>1.0</td>\n",
       "      <td>0.0</td>\n",
       "      <td>3.0</td>\n",
       "      <td>0</td>\n",
       "    </tr>\n",
       "    <tr>\n",
       "      <th>8</th>\n",
       "      <td>63.0</td>\n",
       "      <td>1.0</td>\n",
       "      <td>4.0</td>\n",
       "      <td>130.0</td>\n",
       "      <td>15.937377</td>\n",
       "      <td>0.0</td>\n",
       "      <td>2.0</td>\n",
       "      <td>147.0</td>\n",
       "      <td>0.0</td>\n",
       "      <td>1.4</td>\n",
       "      <td>2.0</td>\n",
       "      <td>1.0</td>\n",
       "      <td>7.0</td>\n",
       "      <td>2</td>\n",
       "    </tr>\n",
       "    <tr>\n",
       "      <th>9</th>\n",
       "      <td>53.0</td>\n",
       "      <td>1.0</td>\n",
       "      <td>4.0</td>\n",
       "      <td>140.0</td>\n",
       "      <td>14.247807</td>\n",
       "      <td>1.0</td>\n",
       "      <td>2.0</td>\n",
       "      <td>155.0</td>\n",
       "      <td>1.0</td>\n",
       "      <td>3.1</td>\n",
       "      <td>3.0</td>\n",
       "      <td>0.0</td>\n",
       "      <td>7.0</td>\n",
       "      <td>1</td>\n",
       "    </tr>\n",
       "  </tbody>\n",
       "</table>\n",
       "</div>"
      ],
      "text/plain": [
       "    age  sex  chest pain type  resting blood pr  serum cholestora  \\\n",
       "0  63.0  1.0              1.0             145.0         15.264338   \n",
       "1  67.0  1.0              4.0             160.0         16.911535   \n",
       "2  67.0  1.0              4.0             120.0         15.132746   \n",
       "3  37.0  1.0              3.0             130.0         15.811388   \n",
       "4  41.0  0.0              2.0             130.0         14.282857   \n",
       "5  56.0  1.0              2.0             120.0         15.362291   \n",
       "6  62.0  0.0              4.0             140.0         16.370706   \n",
       "7  57.0  0.0              4.0             120.0         18.814888   \n",
       "8  63.0  1.0              4.0             130.0         15.937377   \n",
       "9  53.0  1.0              4.0             140.0         14.247807   \n",
       "\n",
       "   fasting blood sugar  resting electrocardiographic result  \\\n",
       "0                  1.0                                  2.0   \n",
       "1                  0.0                                  2.0   \n",
       "2                  0.0                                  2.0   \n",
       "3                  0.0                                  0.0   \n",
       "4                  0.0                                  2.0   \n",
       "5                  0.0                                  0.0   \n",
       "6                  0.0                                  2.0   \n",
       "7                  0.0                                  0.0   \n",
       "8                  0.0                                  2.0   \n",
       "9                  1.0                                  2.0   \n",
       "\n",
       "    maximum heart rate achieved  exercise induced angina  \\\n",
       "0                         150.0                      0.0   \n",
       "1                         108.0                      1.0   \n",
       "2                         129.0                      1.0   \n",
       "3                         187.0                      0.0   \n",
       "4                         172.0                      0.0   \n",
       "5                         178.0                      0.0   \n",
       "6                         160.0                      0.0   \n",
       "7                         163.0                      1.0   \n",
       "8                         147.0                      0.0   \n",
       "9                         155.0                      1.0   \n",
       "\n",
       "   ST depression induced by exercise relative to rest  \\\n",
       "0                                                2.3    \n",
       "1                                                1.5    \n",
       "2                                                2.6    \n",
       "3                                                3.5    \n",
       "4                                                1.4    \n",
       "5                                                0.8    \n",
       "6                                                3.6    \n",
       "7                                                0.6    \n",
       "8                                                1.4    \n",
       "9                                                3.1    \n",
       "\n",
       "   the slope of the peak exercise ST segment number of major vessels thal  \\\n",
       "0                                        3.0                     0.0  6.0   \n",
       "1                                        2.0                     3.0  3.0   \n",
       "2                                        2.0                     2.0  7.0   \n",
       "3                                        3.0                     0.0  3.0   \n",
       "4                                        1.0                     0.0  3.0   \n",
       "5                                        1.0                     0.0  3.0   \n",
       "6                                        3.0                     2.0  3.0   \n",
       "7                                        1.0                     0.0  3.0   \n",
       "8                                        2.0                     1.0  7.0   \n",
       "9                                        3.0                     0.0  7.0   \n",
       "\n",
       "   Result  \n",
       "0       0  \n",
       "1       2  \n",
       "2       1  \n",
       "3       0  \n",
       "4       0  \n",
       "5       0  \n",
       "6       3  \n",
       "7       0  \n",
       "8       2  \n",
       "9       1  "
      ]
     },
     "execution_count": 56,
     "metadata": {},
     "output_type": "execute_result"
    }
   ],
   "source": [
    "ds.head(10)"
   ]
  },
  {
   "cell_type": "code",
   "execution_count": null,
   "metadata": {},
   "outputs": [],
   "source": []
  },
  {
   "cell_type": "code",
   "execution_count": 57,
   "metadata": {},
   "outputs": [
    {
     "data": {
      "text/plain": [
       "age                                                   float64\n",
       "sex                                                   float64\n",
       "chest pain type                                       float64\n",
       "resting blood pr                                      float64\n",
       "serum cholestora                                      float64\n",
       "fasting blood sugar                                   float64\n",
       "resting electrocardiographic result                   float64\n",
       " maximum heart rate achieved                          float64\n",
       "exercise induced angina                               float64\n",
       "ST depression induced by exercise relative to rest    float64\n",
       "the slope of the peak exercise ST segment             float64\n",
       "number of major vessels                                object\n",
       "thal                                                   object\n",
       "Result                                                  int64\n",
       "dtype: object"
      ]
     },
     "execution_count": 57,
     "metadata": {},
     "output_type": "execute_result"
    }
   ],
   "source": [
    "ds.dtypes"
   ]
  },
  {
   "cell_type": "code",
   "execution_count": null,
   "metadata": {},
   "outputs": [],
   "source": []
  },
  {
   "cell_type": "code",
   "execution_count": 58,
   "metadata": {},
   "outputs": [],
   "source": [
    "from sklearn.preprocessing import LabelEncoder\n",
    "le=LabelEncoder()\n",
    "ds['thal']\n",
    "le.fit_transform(ds['thal'])\n",
    "ds['thal']=le.fit_transform(ds['thal'])"
   ]
  },
  {
   "cell_type": "code",
   "execution_count": 59,
   "metadata": {},
   "outputs": [],
   "source": [
    "ds['number of major vessels']\n",
    "le.fit_transform(ds['number of major vessels'])\n",
    "ds['number of major vessels']=le.fit_transform(ds['number of major vessels'])"
   ]
  },
  {
   "cell_type": "code",
   "execution_count": 60,
   "metadata": {},
   "outputs": [
    {
     "data": {
      "text/plain": [
       "age                                                   float64\n",
       "sex                                                   float64\n",
       "chest pain type                                       float64\n",
       "resting blood pr                                      float64\n",
       "serum cholestora                                      float64\n",
       "fasting blood sugar                                   float64\n",
       "resting electrocardiographic result                   float64\n",
       " maximum heart rate achieved                          float64\n",
       "exercise induced angina                               float64\n",
       "ST depression induced by exercise relative to rest    float64\n",
       "the slope of the peak exercise ST segment             float64\n",
       "number of major vessels                                 int32\n",
       "thal                                                    int32\n",
       "Result                                                  int64\n",
       "dtype: object"
      ]
     },
     "execution_count": 60,
     "metadata": {},
     "output_type": "execute_result"
    }
   ],
   "source": [
    "ds.dtypes"
   ]
  },
  {
   "cell_type": "code",
   "execution_count": 61,
   "metadata": {},
   "outputs": [],
   "source": [
    "from scipy.stats import zscore\n",
    "z=np.abs(zscore(ds))\n",
    "ds_n=ds[(z<3).all(axis=1)]"
   ]
  },
  {
   "cell_type": "code",
   "execution_count": 62,
   "metadata": {},
   "outputs": [],
   "source": [
    "x=ds_n.iloc[:,0:-1]\n",
    "y=ds_n.iloc[:,-1]"
   ]
  },
  {
   "cell_type": "code",
   "execution_count": 63,
   "metadata": {},
   "outputs": [],
   "source": [
    "from sklearn.preprocessing import StandardScaler\n",
    "sd=StandardScaler()\n",
    "x=sd.fit_transform(x)"
   ]
  },
  {
   "cell_type": "code",
   "execution_count": null,
   "metadata": {},
   "outputs": [],
   "source": []
  },
  {
   "cell_type": "code",
   "execution_count": 64,
   "metadata": {},
   "outputs": [
    {
     "name": "stdout",
     "output_type": "stream",
     "text": [
      "Final rstate corresponding to 50 max accuracy score is 0.711864406779661\n"
     ]
    }
   ],
   "source": [
    "from sklearn.linear_model import LogisticRegression\n",
    "from sklearn.model_selection import train_test_split\n",
    "from sklearn.metrics import accuracy_score, confusion_matrix, classification_report\n",
    "max_scr=0\n",
    "for r_state in range(42,100):\n",
    "    x_train,x_test,y_train,y_test=train_test_split(x,y,random_state=r_state, test_size=0.2)\n",
    "    lg=LogisticRegression()\n",
    "    lg.fit(x_train,y_train)\n",
    "    y_pred=lg.predict(x_test)\n",
    "    acc_scr=accuracy_score(y_test,y_pred)\n",
    "    if acc_scr>max_scr:\n",
    "        max_scr=acc_scr\n",
    "        final_rstate=r_state\n",
    "        \n",
    "print('Final rstate corresponding to',final_rstate, 'max accuracy score is', max_scr)"
   ]
  },
  {
   "cell_type": "code",
   "execution_count": 65,
   "metadata": {},
   "outputs": [
    {
     "name": "stdout",
     "output_type": "stream",
     "text": [
      "Accuracy Score 0.559322033898305\n",
      "Confusion matrix [[24  2  0  0  0]\n",
      " [ 8  5  0  1  0]\n",
      " [ 1  1  2  2  3]\n",
      " [ 1  2  3  1  0]\n",
      " [ 1  0  0  1  1]]\n",
      "              precision    recall  f1-score   support\n",
      "\n",
      "           0       0.69      0.92      0.79        26\n",
      "           1       0.50      0.36      0.42        14\n",
      "           2       0.40      0.22      0.29         9\n",
      "           3       0.20      0.14      0.17         7\n",
      "           4       0.25      0.33      0.29         3\n",
      "\n",
      "    accuracy                           0.56        59\n",
      "   macro avg       0.41      0.40      0.39        59\n",
      "weighted avg       0.52      0.56      0.52        59\n",
      "\n"
     ]
    }
   ],
   "source": [
    "x_train,x_test,y_train,y_test=train_test_split(x,y, random_state=81,test_size=0.2)\n",
    "lg=LogisticRegression()\n",
    "lg.fit(x_train,y_train)\n",
    "y_pred=lg.predict(x_test)\n",
    "print('Accuracy Score',accuracy_score(y_test,y_pred))\n",
    "print('Confusion matrix',confusion_matrix(y_test,y_pred))\n",
    "print(classification_report(y_test,y_pred))"
   ]
  },
  {
   "cell_type": "code",
   "execution_count": 66,
   "metadata": {},
   "outputs": [],
   "source": [
    "from sklearn.svm import SVC\n",
    "from sklearn.naive_bayes import MultinomialNB\n",
    "from sklearn.tree import DecisionTreeClassifier\n",
    "from sklearn.neighbors import KNeighborsClassifier\n"
   ]
  },
  {
   "cell_type": "code",
   "execution_count": 67,
   "metadata": {},
   "outputs": [],
   "source": [
    "lg=LogisticRegression()\n",
    "svc=SVC()\n",
    "knn=KNeighborsClassifier()\n",
    "dtc=DecisionTreeClassifier()\n"
   ]
  },
  {
   "cell_type": "code",
   "execution_count": null,
   "metadata": {},
   "outputs": [],
   "source": []
  },
  {
   "cell_type": "code",
   "execution_count": 68,
   "metadata": {},
   "outputs": [],
   "source": [
    "from sklearn.model_selection import cross_val_score\n",
    "from sklearn.metrics import accuracy_score,confusion_matrix,classification_report,roc_curve,auc"
   ]
  },
  {
   "cell_type": "code",
   "execution_count": 69,
   "metadata": {},
   "outputs": [],
   "source": [
    "models=[]\n",
    "models.append((lg,'LogisticRegression'))\n",
    "models.append((svc,'svc'))\n",
    "models.append((knn,'KNeighborsClassifier'))\n",
    "models.append((dtc,'DecisionTreeClassifier'))\n",
    "\n"
   ]
  },
  {
   "cell_type": "code",
   "execution_count": null,
   "metadata": {},
   "outputs": [],
   "source": []
  },
  {
   "cell_type": "code",
   "execution_count": 70,
   "metadata": {},
   "outputs": [
    {
     "name": "stdout",
     "output_type": "stream",
     "text": [
      "************* LogisticRegression ***************\n",
      "Accuracy Score 0.559322033898305\n",
      "\n",
      "\n",
      "Cross_val_score 0.590344827586207\n",
      "************* svc ***************\n",
      "Accuracy Score 0.4915254237288136\n",
      "\n",
      "\n",
      "Cross_val_score 0.5835632183908046\n",
      "************* KNeighborsClassifier ***************\n",
      "Accuracy Score 0.4915254237288136\n",
      "\n",
      "\n",
      "Cross_val_score 0.5702298850574714\n",
      "************* DecisionTreeClassifier ***************\n",
      "Accuracy Score 0.4067796610169492\n",
      "\n",
      "\n",
      "Cross_val_score 0.45379310344827595\n"
     ]
    }
   ],
   "source": [
    "for m,model_name in models:\n",
    "    print('*************',model_name,'***************')\n",
    "    m.fit(x_train,y_train)\n",
    "    pred_y=m.predict(x_test)\n",
    "    acc=accuracy_score(y_test,pred_y)\n",
    "    print('Accuracy Score', acc)\n",
    "    print('\\n')\n",
    "    csc=cross_val_score(m,x,y,scoring='accuracy', cv=10).mean()\n",
    "    print('Cross_val_score', csc)"
   ]
  },
  {
   "cell_type": "code",
   "execution_count": 73,
   "metadata": {},
   "outputs": [],
   "source": [
    "from sklearn.model_selection import GridSearchCV"
   ]
  },
  {
   "cell_type": "code",
   "execution_count": 74,
   "metadata": {},
   "outputs": [
    {
     "data": {
      "text/plain": [
       "((293, 13), (293,))"
      ]
     },
     "execution_count": 74,
     "metadata": {},
     "output_type": "execute_result"
    }
   ],
   "source": [
    "x.shape, y.shape"
   ]
  },
  {
   "cell_type": "code",
   "execution_count": 79,
   "metadata": {},
   "outputs": [
    {
     "data": {
      "text/plain": [
       "GridSearchCV(cv=5, error_score=nan,\n",
       "             estimator=GradientBoostingClassifier(ccp_alpha=0.0,\n",
       "                                                  criterion='friedman_mse',\n",
       "                                                  init=None, learning_rate=0.1,\n",
       "                                                  loss='deviance', max_depth=3,\n",
       "                                                  max_features=None,\n",
       "                                                  max_leaf_nodes=None,\n",
       "                                                  min_impurity_decrease=0.0,\n",
       "                                                  min_impurity_split=None,\n",
       "                                                  min_samples_leaf=1,\n",
       "                                                  min_samples_split=2,\n",
       "                                                  min_weight_fraction_leaf=0.0,\n",
       "                                                  n_estimators=100,\n",
       "                                                  n_iter_no_change=None,\n",
       "                                                  presort='deprecated',\n",
       "                                                  random_state=None,\n",
       "                                                  subsample=1.0, tol=0.0001,\n",
       "                                                  validation_fraction=0.1,\n",
       "                                                  verbose=0, warm_start=False),\n",
       "             iid='deprecated', n_jobs=None,\n",
       "             param_grid={'learning_rate': [0.001, 0.01, 0.1, 1],\n",
       "                         'n_estimators': [10, 100, 500, 1000]},\n",
       "             pre_dispatch='2*n_jobs', refit=True, return_train_score=False,\n",
       "             scoring=None, verbose=0)"
      ]
     },
     "execution_count": 79,
     "metadata": {},
     "output_type": "execute_result"
    }
   ],
   "source": [
    "from sklearn.ensemble import GradientBoostingClassifier\n",
    "import warnings\n",
    "warnings.filterwarnings('ignore')\n",
    "gbr=GradientBoostingClassifier()\n",
    "parameters={'n_estimators':[10,100,500,1000],'learning_rate':[0.001,0.01,0.1,1] }\n",
    "gsv=GridSearchCV(gbr,parameters, cv=5)\n",
    "gsv.fit(x,y)\n"
   ]
  },
  {
   "cell_type": "code",
   "execution_count": 80,
   "metadata": {},
   "outputs": [
    {
     "data": {
      "text/plain": [
       "{'learning_rate': 0.001, 'n_estimators': 1000}"
      ]
     },
     "execution_count": 80,
     "metadata": {},
     "output_type": "execute_result"
    }
   ],
   "source": [
    "gsv.best_params_"
   ]
  },
  {
   "cell_type": "code",
   "execution_count": 82,
   "metadata": {},
   "outputs": [
    {
     "name": "stdout",
     "output_type": "stream",
     "text": [
      "Mean r2 score for Gradeint Boosting: -0.08425669352500174\n"
     ]
    }
   ],
   "source": [
    "gbr=GradientBoostingClassifier(learning_rate=0.001, n_estimators= 1000)\n",
    "print('Mean r2 score for Gradeint Boosting:',cross_val_score(gbr,x,y,cv=10, scoring='r2').mean())"
   ]
  },
  {
   "cell_type": "code",
   "execution_count": 83,
   "metadata": {},
   "outputs": [
    {
     "data": {
      "text/plain": [
       "GridSearchCV(cv=5, error_score=nan,\n",
       "             estimator=AdaBoostClassifier(algorithm='SAMME.R',\n",
       "                                          base_estimator=None,\n",
       "                                          learning_rate=1.0, n_estimators=50,\n",
       "                                          random_state=None),\n",
       "             iid='deprecated', n_jobs=None,\n",
       "             param_grid={'learning_rate': [0.001, 0.01, 0.1, 1],\n",
       "                         'n_estimators': [10, 100, 500, 1000]},\n",
       "             pre_dispatch='2*n_jobs', refit=True, return_train_score=False,\n",
       "             scoring=None, verbose=0)"
      ]
     },
     "execution_count": 83,
     "metadata": {},
     "output_type": "execute_result"
    }
   ],
   "source": [
    "from sklearn.ensemble import AdaBoostClassifier\n",
    "import warnings\n",
    "warnings.filterwarnings('ignore')\n",
    "adc=AdaBoostClassifier()\n",
    "parameters={'n_estimators':[10,100,500,1000],'learning_rate':[0.001,0.01,0.1,1] }\n",
    "gsv=GridSearchCV(adc,parameters, cv=5)\n",
    "gsv.fit(x,y)\n"
   ]
  },
  {
   "cell_type": "code",
   "execution_count": 84,
   "metadata": {},
   "outputs": [
    {
     "data": {
      "text/plain": [
       "{'learning_rate': 0.1, 'n_estimators': 10}"
      ]
     },
     "execution_count": 84,
     "metadata": {},
     "output_type": "execute_result"
    }
   ],
   "source": [
    "gsv.best_params_"
   ]
  },
  {
   "cell_type": "code",
   "execution_count": null,
   "metadata": {},
   "outputs": [],
   "source": []
  },
  {
   "cell_type": "code",
   "execution_count": 85,
   "metadata": {},
   "outputs": [
    {
     "name": "stdout",
     "output_type": "stream",
     "text": [
      "Mean r2 score for Gradeint Boosting: -0.5325380735350356\n"
     ]
    }
   ],
   "source": [
    "abc=AdaBoostClassifier(learning_rate=0.001, n_estimators= 10)\n",
    "print('Mean r2 score for Gradeint Boosting:',cross_val_score(abc,x,y,cv=10, scoring='r2').mean())"
   ]
  },
  {
   "cell_type": "code",
   "execution_count": 87,
   "metadata": {},
   "outputs": [
    {
     "data": {
      "text/plain": [
       "['lg_heart_diease.pkl']"
      ]
     },
     "execution_count": 87,
     "metadata": {},
     "output_type": "execute_result"
    }
   ],
   "source": [
    "from sklearn.externals import joblib\n",
    "joblib.dump(lg,'lg_heart_diease.pkl')"
   ]
  },
  {
   "cell_type": "code",
   "execution_count": null,
   "metadata": {},
   "outputs": [],
   "source": []
  },
  {
   "cell_type": "code",
   "execution_count": null,
   "metadata": {},
   "outputs": [],
   "source": []
  },
  {
   "cell_type": "code",
   "execution_count": null,
   "metadata": {},
   "outputs": [],
   "source": []
  },
  {
   "cell_type": "code",
   "execution_count": null,
   "metadata": {},
   "outputs": [],
   "source": []
  },
  {
   "cell_type": "code",
   "execution_count": null,
   "metadata": {},
   "outputs": [],
   "source": []
  },
  {
   "cell_type": "code",
   "execution_count": null,
   "metadata": {},
   "outputs": [],
   "source": []
  },
  {
   "cell_type": "code",
   "execution_count": null,
   "metadata": {},
   "outputs": [],
   "source": []
  },
  {
   "cell_type": "code",
   "execution_count": null,
   "metadata": {},
   "outputs": [],
   "source": []
  },
  {
   "cell_type": "code",
   "execution_count": null,
   "metadata": {},
   "outputs": [],
   "source": []
  },
  {
   "cell_type": "code",
   "execution_count": null,
   "metadata": {},
   "outputs": [],
   "source": []
  },
  {
   "cell_type": "code",
   "execution_count": null,
   "metadata": {},
   "outputs": [],
   "source": []
  },
  {
   "cell_type": "code",
   "execution_count": null,
   "metadata": {},
   "outputs": [],
   "source": []
  },
  {
   "cell_type": "code",
   "execution_count": null,
   "metadata": {},
   "outputs": [],
   "source": []
  },
  {
   "cell_type": "code",
   "execution_count": null,
   "metadata": {},
   "outputs": [],
   "source": []
  },
  {
   "cell_type": "code",
   "execution_count": null,
   "metadata": {},
   "outputs": [],
   "source": []
  },
  {
   "cell_type": "code",
   "execution_count": null,
   "metadata": {},
   "outputs": [],
   "source": []
  },
  {
   "cell_type": "code",
   "execution_count": null,
   "metadata": {},
   "outputs": [],
   "source": []
  },
  {
   "cell_type": "code",
   "execution_count": null,
   "metadata": {},
   "outputs": [],
   "source": []
  },
  {
   "cell_type": "code",
   "execution_count": null,
   "metadata": {},
   "outputs": [],
   "source": []
  },
  {
   "cell_type": "code",
   "execution_count": null,
   "metadata": {},
   "outputs": [],
   "source": []
  },
  {
   "cell_type": "code",
   "execution_count": null,
   "metadata": {},
   "outputs": [],
   "source": []
  },
  {
   "cell_type": "code",
   "execution_count": null,
   "metadata": {},
   "outputs": [],
   "source": []
  },
  {
   "cell_type": "code",
   "execution_count": null,
   "metadata": {},
   "outputs": [],
   "source": []
  },
  {
   "cell_type": "code",
   "execution_count": null,
   "metadata": {},
   "outputs": [],
   "source": []
  },
  {
   "cell_type": "code",
   "execution_count": null,
   "metadata": {},
   "outputs": [],
   "source": []
  },
  {
   "cell_type": "code",
   "execution_count": null,
   "metadata": {},
   "outputs": [],
   "source": [
    "gsv"
   ]
  },
  {
   "cell_type": "code",
   "execution_count": null,
   "metadata": {},
   "outputs": [],
   "source": []
  },
  {
   "cell_type": "code",
   "execution_count": null,
   "metadata": {},
   "outputs": [],
   "source": []
  },
  {
   "cell_type": "code",
   "execution_count": null,
   "metadata": {},
   "outputs": [],
   "source": []
  },
  {
   "cell_type": "code",
   "execution_count": null,
   "metadata": {},
   "outputs": [],
   "source": []
  },
  {
   "cell_type": "code",
   "execution_count": null,
   "metadata": {},
   "outputs": [],
   "source": []
  },
  {
   "cell_type": "code",
   "execution_count": null,
   "metadata": {},
   "outputs": [],
   "source": []
  },
  {
   "cell_type": "code",
   "execution_count": null,
   "metadata": {},
   "outputs": [],
   "source": []
  },
  {
   "cell_type": "code",
   "execution_count": null,
   "metadata": {},
   "outputs": [],
   "source": []
  },
  {
   "cell_type": "code",
   "execution_count": null,
   "metadata": {},
   "outputs": [],
   "source": []
  },
  {
   "cell_type": "code",
   "execution_count": null,
   "metadata": {},
   "outputs": [],
   "source": []
  },
  {
   "cell_type": "code",
   "execution_count": null,
   "metadata": {},
   "outputs": [],
   "source": []
  },
  {
   "cell_type": "code",
   "execution_count": null,
   "metadata": {},
   "outputs": [],
   "source": []
  },
  {
   "cell_type": "code",
   "execution_count": null,
   "metadata": {},
   "outputs": [],
   "source": []
  },
  {
   "cell_type": "code",
   "execution_count": null,
   "metadata": {},
   "outputs": [],
   "source": []
  },
  {
   "cell_type": "code",
   "execution_count": null,
   "metadata": {},
   "outputs": [],
   "source": []
  },
  {
   "cell_type": "code",
   "execution_count": null,
   "metadata": {},
   "outputs": [],
   "source": []
  },
  {
   "cell_type": "code",
   "execution_count": null,
   "metadata": {},
   "outputs": [],
   "source": []
  },
  {
   "cell_type": "code",
   "execution_count": null,
   "metadata": {},
   "outputs": [],
   "source": []
  },
  {
   "cell_type": "code",
   "execution_count": null,
   "metadata": {},
   "outputs": [],
   "source": []
  },
  {
   "cell_type": "code",
   "execution_count": null,
   "metadata": {},
   "outputs": [],
   "source": []
  },
  {
   "cell_type": "code",
   "execution_count": null,
   "metadata": {},
   "outputs": [],
   "source": []
  },
  {
   "cell_type": "code",
   "execution_count": null,
   "metadata": {},
   "outputs": [],
   "source": []
  },
  {
   "cell_type": "code",
   "execution_count": null,
   "metadata": {},
   "outputs": [],
   "source": []
  },
  {
   "cell_type": "code",
   "execution_count": null,
   "metadata": {},
   "outputs": [],
   "source": []
  },
  {
   "cell_type": "code",
   "execution_count": null,
   "metadata": {},
   "outputs": [],
   "source": []
  },
  {
   "cell_type": "code",
   "execution_count": null,
   "metadata": {},
   "outputs": [],
   "source": []
  },
  {
   "cell_type": "code",
   "execution_count": null,
   "metadata": {},
   "outputs": [],
   "source": []
  },
  {
   "cell_type": "code",
   "execution_count": null,
   "metadata": {},
   "outputs": [],
   "source": []
  },
  {
   "cell_type": "code",
   "execution_count": null,
   "metadata": {},
   "outputs": [],
   "source": []
  },
  {
   "cell_type": "code",
   "execution_count": null,
   "metadata": {},
   "outputs": [],
   "source": []
  },
  {
   "cell_type": "code",
   "execution_count": null,
   "metadata": {},
   "outputs": [],
   "source": []
  },
  {
   "cell_type": "code",
   "execution_count": null,
   "metadata": {},
   "outputs": [],
   "source": []
  },
  {
   "cell_type": "code",
   "execution_count": null,
   "metadata": {},
   "outputs": [],
   "source": []
  },
  {
   "cell_type": "code",
   "execution_count": null,
   "metadata": {},
   "outputs": [],
   "source": []
  },
  {
   "cell_type": "code",
   "execution_count": null,
   "metadata": {},
   "outputs": [],
   "source": []
  },
  {
   "cell_type": "code",
   "execution_count": null,
   "metadata": {},
   "outputs": [],
   "source": []
  },
  {
   "cell_type": "code",
   "execution_count": null,
   "metadata": {},
   "outputs": [],
   "source": []
  },
  {
   "cell_type": "code",
   "execution_count": null,
   "metadata": {},
   "outputs": [],
   "source": []
  },
  {
   "cell_type": "code",
   "execution_count": null,
   "metadata": {},
   "outputs": [],
   "source": []
  },
  {
   "cell_type": "code",
   "execution_count": null,
   "metadata": {},
   "outputs": [],
   "source": []
  },
  {
   "cell_type": "code",
   "execution_count": null,
   "metadata": {},
   "outputs": [],
   "source": []
  },
  {
   "cell_type": "code",
   "execution_count": null,
   "metadata": {},
   "outputs": [],
   "source": []
  },
  {
   "cell_type": "code",
   "execution_count": null,
   "metadata": {},
   "outputs": [],
   "source": [
    "\n",
    "\n"
   ]
  },
  {
   "cell_type": "code",
   "execution_count": null,
   "metadata": {},
   "outputs": [],
   "source": []
  },
  {
   "cell_type": "code",
   "execution_count": null,
   "metadata": {},
   "outputs": [],
   "source": []
  }
 ],
 "metadata": {
  "kernelspec": {
   "display_name": "Python 3",
   "language": "python",
   "name": "python3"
  },
  "language_info": {
   "codemirror_mode": {
    "name": "ipython",
    "version": 3
   },
   "file_extension": ".py",
   "mimetype": "text/x-python",
   "name": "python",
   "nbconvert_exporter": "python",
   "pygments_lexer": "ipython3",
   "version": "3.7.6"
  }
 },
 "nbformat": 4,
 "nbformat_minor": 4
}
