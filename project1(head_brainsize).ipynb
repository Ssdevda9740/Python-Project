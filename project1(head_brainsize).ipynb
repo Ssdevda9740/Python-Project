{
 "cells": [
  {
   "cell_type": "code",
   "execution_count": 1,
   "metadata": {},
   "outputs": [],
   "source": [
    "import pandas as pd\n",
    "import numpy as np\n",
    "import seaborn as sns\n",
    "import matplotlib.pyplot as plt \n",
    "import sklearn "
   ]
  },
  {
   "cell_type": "code",
   "execution_count": 5,
   "metadata": {},
   "outputs": [
    {
     "data": {
      "text/html": [
       "<div>\n",
       "<style scoped>\n",
       "    .dataframe tbody tr th:only-of-type {\n",
       "        vertical-align: middle;\n",
       "    }\n",
       "\n",
       "    .dataframe tbody tr th {\n",
       "        vertical-align: top;\n",
       "    }\n",
       "\n",
       "    .dataframe thead th {\n",
       "        text-align: right;\n",
       "    }\n",
       "</style>\n",
       "<table border=\"1\" class=\"dataframe\">\n",
       "  <thead>\n",
       "    <tr style=\"text-align: right;\">\n",
       "      <th></th>\n",
       "      <th>Gender</th>\n",
       "      <th>AgeRange</th>\n",
       "      <th>HeadSize</th>\n",
       "      <th>BrainWeight</th>\n",
       "    </tr>\n",
       "  </thead>\n",
       "  <tbody>\n",
       "    <tr>\n",
       "      <th>0</th>\n",
       "      <td>1</td>\n",
       "      <td>1</td>\n",
       "      <td>4512</td>\n",
       "      <td>1530</td>\n",
       "    </tr>\n",
       "    <tr>\n",
       "      <th>1</th>\n",
       "      <td>1</td>\n",
       "      <td>1</td>\n",
       "      <td>3738</td>\n",
       "      <td>1297</td>\n",
       "    </tr>\n",
       "    <tr>\n",
       "      <th>2</th>\n",
       "      <td>1</td>\n",
       "      <td>1</td>\n",
       "      <td>4261</td>\n",
       "      <td>1335</td>\n",
       "    </tr>\n",
       "    <tr>\n",
       "      <th>3</th>\n",
       "      <td>1</td>\n",
       "      <td>1</td>\n",
       "      <td>3777</td>\n",
       "      <td>1282</td>\n",
       "    </tr>\n",
       "    <tr>\n",
       "      <th>4</th>\n",
       "      <td>1</td>\n",
       "      <td>1</td>\n",
       "      <td>4177</td>\n",
       "      <td>1590</td>\n",
       "    </tr>\n",
       "    <tr>\n",
       "      <th>5</th>\n",
       "      <td>1</td>\n",
       "      <td>1</td>\n",
       "      <td>3585</td>\n",
       "      <td>1300</td>\n",
       "    </tr>\n",
       "    <tr>\n",
       "      <th>6</th>\n",
       "      <td>1</td>\n",
       "      <td>1</td>\n",
       "      <td>3785</td>\n",
       "      <td>1400</td>\n",
       "    </tr>\n",
       "    <tr>\n",
       "      <th>7</th>\n",
       "      <td>1</td>\n",
       "      <td>1</td>\n",
       "      <td>3559</td>\n",
       "      <td>1255</td>\n",
       "    </tr>\n",
       "    <tr>\n",
       "      <th>8</th>\n",
       "      <td>1</td>\n",
       "      <td>1</td>\n",
       "      <td>3613</td>\n",
       "      <td>1355</td>\n",
       "    </tr>\n",
       "    <tr>\n",
       "      <th>9</th>\n",
       "      <td>1</td>\n",
       "      <td>1</td>\n",
       "      <td>3982</td>\n",
       "      <td>1375</td>\n",
       "    </tr>\n",
       "  </tbody>\n",
       "</table>\n",
       "</div>"
      ],
      "text/plain": [
       "   Gender  AgeRange  HeadSize  BrainWeight\n",
       "0       1         1      4512         1530\n",
       "1       1         1      3738         1297\n",
       "2       1         1      4261         1335\n",
       "3       1         1      3777         1282\n",
       "4       1         1      4177         1590\n",
       "5       1         1      3585         1300\n",
       "6       1         1      3785         1400\n",
       "7       1         1      3559         1255\n",
       "8       1         1      3613         1355\n",
       "9       1         1      3982         1375"
      ]
     },
     "execution_count": 5,
     "metadata": {},
     "output_type": "execute_result"
    }
   ],
   "source": [
    "hb=pd.read_csv('head_brainsize.csv')\n",
    "hb.head(10)"
   ]
  },
  {
   "cell_type": "code",
   "execution_count": 7,
   "metadata": {},
   "outputs": [
    {
     "data": {
      "text/plain": [
       "Index(['Gender', 'AgeRange', 'HeadSize', 'BrainWeight'], dtype='object')"
      ]
     },
     "execution_count": 7,
     "metadata": {},
     "output_type": "execute_result"
    }
   ],
   "source": [
    "hb.columns"
   ]
  },
  {
   "cell_type": "code",
   "execution_count": 14,
   "metadata": {},
   "outputs": [
    {
     "data": {
      "text/plain": [
       "Gender         0\n",
       "AgeRange       0\n",
       "HeadSize       0\n",
       "BrainWeight    0\n",
       "dtype: int64"
      ]
     },
     "execution_count": 14,
     "metadata": {},
     "output_type": "execute_result"
    }
   ],
   "source": [
    "hb.isnull().sum()"
   ]
  },
  {
   "cell_type": "code",
   "execution_count": 17,
   "metadata": {},
   "outputs": [
    {
     "data": {
      "text/plain": [
       "<matplotlib.axes._subplots.AxesSubplot at 0xb844fc8>"
      ]
     },
     "execution_count": 17,
     "metadata": {},
     "output_type": "execute_result"
    },
    {
     "data": {
      "image/png": "[encoded data removed]",
      "text/plain": [
       "<Figure size 720x288 with 2 Axes>"
      ]
     },
     "metadata": {
      "needs_background": "light"
     },
     "output_type": "display_data"
    }
   ],
   "source": [
    "plt.figure(figsize=(10,4))\n",
    "sns.heatmap(hb.isnull(), annot=True)"
   ]
  },
  {
   "cell_type": "code",
   "execution_count": 22,
   "metadata": {},
   "outputs": [
    {
     "data": {
      "text/html": [
       "<div>\n",
       "<style scoped>\n",
       "    .dataframe tbody tr th:only-of-type {\n",
       "        vertical-align: middle;\n",
       "    }\n",
       "\n",
       "    .dataframe tbody tr th {\n",
       "        vertical-align: top;\n",
       "    }\n",
       "\n",
       "    .dataframe thead th {\n",
       "        text-align: right;\n",
       "    }\n",
       "</style>\n",
       "<table border=\"1\" class=\"dataframe\">\n",
       "  <thead>\n",
       "    <tr style=\"text-align: right;\">\n",
       "      <th></th>\n",
       "      <th>Gender</th>\n",
       "      <th>AgeRange</th>\n",
       "      <th>HeadSize</th>\n",
       "      <th>BrainWeight</th>\n",
       "    </tr>\n",
       "  </thead>\n",
       "  <tbody>\n",
       "    <tr>\n",
       "      <th>count</th>\n",
       "      <td>237.000000</td>\n",
       "      <td>237.000000</td>\n",
       "      <td>237.000000</td>\n",
       "      <td>237.000000</td>\n",
       "    </tr>\n",
       "    <tr>\n",
       "      <th>mean</th>\n",
       "      <td>1.434599</td>\n",
       "      <td>1.535865</td>\n",
       "      <td>3633.991561</td>\n",
       "      <td>1282.873418</td>\n",
       "    </tr>\n",
       "    <tr>\n",
       "      <th>std</th>\n",
       "      <td>0.496753</td>\n",
       "      <td>0.499768</td>\n",
       "      <td>365.261422</td>\n",
       "      <td>120.340446</td>\n",
       "    </tr>\n",
       "    <tr>\n",
       "      <th>min</th>\n",
       "      <td>1.000000</td>\n",
       "      <td>1.000000</td>\n",
       "      <td>2720.000000</td>\n",
       "      <td>955.000000</td>\n",
       "    </tr>\n",
       "    <tr>\n",
       "      <th>25%</th>\n",
       "      <td>1.000000</td>\n",
       "      <td>1.000000</td>\n",
       "      <td>3389.000000</td>\n",
       "      <td>1207.000000</td>\n",
       "    </tr>\n",
       "    <tr>\n",
       "      <th>50%</th>\n",
       "      <td>1.000000</td>\n",
       "      <td>2.000000</td>\n",
       "      <td>3614.000000</td>\n",
       "      <td>1280.000000</td>\n",
       "    </tr>\n",
       "    <tr>\n",
       "      <th>75%</th>\n",
       "      <td>2.000000</td>\n",
       "      <td>2.000000</td>\n",
       "      <td>3876.000000</td>\n",
       "      <td>1350.000000</td>\n",
       "    </tr>\n",
       "    <tr>\n",
       "      <th>max</th>\n",
       "      <td>2.000000</td>\n",
       "      <td>2.000000</td>\n",
       "      <td>4747.000000</td>\n",
       "      <td>1635.000000</td>\n",
       "    </tr>\n",
       "  </tbody>\n",
       "</table>\n",
       "</div>"
      ],
      "text/plain": [
       "           Gender    AgeRange     HeadSize  BrainWeight\n",
       "count  237.000000  237.000000   237.000000   237.000000\n",
       "mean     1.434599    1.535865  3633.991561  1282.873418\n",
       "std      0.496753    0.499768   365.261422   120.340446\n",
       "min      1.000000    1.000000  2720.000000   955.000000\n",
       "25%      1.000000    1.000000  3389.000000  1207.000000\n",
       "50%      1.000000    2.000000  3614.000000  1280.000000\n",
       "75%      2.000000    2.000000  3876.000000  1350.000000\n",
       "max      2.000000    2.000000  4747.000000  1635.000000"
      ]
     },
     "execution_count": 22,
     "metadata": {},
     "output_type": "execute_result"
    }
   ],
   "source": [
    "hb.describe()"
   ]
  },
  {
   "cell_type": "code",
   "execution_count": 23,
   "metadata": {},
   "outputs": [
    {
     "data": {
      "text/html": [
       "<div>\n",
       "<style scoped>\n",
       "    .dataframe tbody tr th:only-of-type {\n",
       "        vertical-align: middle;\n",
       "    }\n",
       "\n",
       "    .dataframe tbody tr th {\n",
       "        vertical-align: top;\n",
       "    }\n",
       "\n",
       "    .dataframe thead th {\n",
       "        text-align: right;\n",
       "    }\n",
       "</style>\n",
       "<table border=\"1\" class=\"dataframe\">\n",
       "  <thead>\n",
       "    <tr style=\"text-align: right;\">\n",
       "      <th></th>\n",
       "      <th>Gender</th>\n",
       "      <th>AgeRange</th>\n",
       "      <th>HeadSize</th>\n",
       "      <th>BrainWeight</th>\n",
       "    </tr>\n",
       "  </thead>\n",
       "  <tbody>\n",
       "    <tr>\n",
       "      <th>Gender</th>\n",
       "      <td>1.000000</td>\n",
       "      <td>-0.088652</td>\n",
       "      <td>-0.514050</td>\n",
       "      <td>-0.465266</td>\n",
       "    </tr>\n",
       "    <tr>\n",
       "      <th>AgeRange</th>\n",
       "      <td>-0.088652</td>\n",
       "      <td>1.000000</td>\n",
       "      <td>-0.105428</td>\n",
       "      <td>-0.169438</td>\n",
       "    </tr>\n",
       "    <tr>\n",
       "      <th>HeadSize</th>\n",
       "      <td>-0.514050</td>\n",
       "      <td>-0.105428</td>\n",
       "      <td>1.000000</td>\n",
       "      <td>0.799570</td>\n",
       "    </tr>\n",
       "    <tr>\n",
       "      <th>BrainWeight</th>\n",
       "      <td>-0.465266</td>\n",
       "      <td>-0.169438</td>\n",
       "      <td>0.799570</td>\n",
       "      <td>1.000000</td>\n",
       "    </tr>\n",
       "  </tbody>\n",
       "</table>\n",
       "</div>"
      ],
      "text/plain": [
       "               Gender  AgeRange  HeadSize  BrainWeight\n",
       "Gender       1.000000 -0.088652 -0.514050    -0.465266\n",
       "AgeRange    -0.088652  1.000000 -0.105428    -0.169438\n",
       "HeadSize    -0.514050 -0.105428  1.000000     0.799570\n",
       "BrainWeight -0.465266 -0.169438  0.799570     1.000000"
      ]
     },
     "execution_count": 23,
     "metadata": {},
     "output_type": "execute_result"
    }
   ],
   "source": [
    "hb.corr()"
   ]
  },
  {
   "cell_type": "code",
   "execution_count": 42,
   "metadata": {},
   "outputs": [
    {
     "data": {
      "text/plain": [
       "Gender         0.265554\n",
       "AgeRange      -0.144748\n",
       "HeadSize       0.238807\n",
       "BrainWeight    0.265478\n",
       "dtype: float64"
      ]
     },
     "execution_count": 42,
     "metadata": {},
     "output_type": "execute_result"
    }
   ],
   "source": [
    "hb.skew()"
   ]
  },
  {
   "cell_type": "code",
   "execution_count": 48,
   "metadata": {},
   "outputs": [
    {
     "data": {
      "text/plain": [
       "(array([ 3.,  9., 20., 45., 53., 55., 27., 12.,  8.,  5.]),\n",
       " array([ 955., 1023., 1091., 1159., 1227., 1295., 1363., 1431., 1499.,\n",
       "        1567., 1635.]),\n",
       " <a list of 10 Patch objects>)"
      ]
     },
     "execution_count": 48,
     "metadata": {},
     "output_type": "execute_result"
    },
    {
     "data": {
      "image/png": "[encoded data removed]",
      "text/plain": [
       "<Figure size 432x288 with 1 Axes>"
      ]
     },
     "metadata": {
      "needs_background": "light"
     },
     "output_type": "display_data"
    }
   ],
   "source": [
    "plt.hist(x='BrainWeight', bins=10, data=hb)"
   ]
  },
  {
   "cell_type": "markdown",
   "metadata": {},
   "source": [
    "As we can see all the values are below 0.5 in above data, so no need of skewing the data."
   ]
  },
  {
   "cell_type": "code",
   "execution_count": 55,
   "metadata": {},
   "outputs": [
    {
     "data": {
      "text/plain": [
       "<seaborn.axisgrid.FacetGrid at 0x15d77148>"
      ]
     },
     "execution_count": 55,
     "metadata": {},
     "output_type": "execute_result"
    },
    {
     "data": {
      "image/png": "[encoded data removed]",
      "text/plain": [
       "<Figure size 360x360 with 1 Axes>"
      ]
     },
     "metadata": {
      "needs_background": "light"
     },
     "output_type": "display_data"
    }
   ],
   "source": [
    "sns.catplot(x='BrainWeight', y='HeadSize', data=hb)"
   ]
  },
  {
   "cell_type": "code",
   "execution_count": 58,
   "metadata": {},
   "outputs": [
    {
     "data": {
      "text/plain": [
       "<matplotlib.axes._subplots.AxesSubplot at 0x165b8388>"
      ]
     },
     "execution_count": 58,
     "metadata": {},
     "output_type": "execute_result"
    },
    {
     "data": {
      "image/png": "[encoded data removed]",
      "text/plain": [
       "<Figure size 432x288 with 1 Axes>"
      ]
     },
     "metadata": {
      "needs_background": "light"
     },
     "output_type": "display_data"
    }
   ],
   "source": [
    "sns.countplot(x='AgeRange', data=hb)"
   ]
  },
  {
   "cell_type": "code",
   "execution_count": 27,
   "metadata": {},
   "outputs": [
    {
     "data": {
      "text/plain": [
       "<matplotlib.axes._subplots.AxesSubplot at 0xc88f648>"
      ]
     },
     "execution_count": 27,
     "metadata": {},
     "output_type": "execute_result"
    },
    {
     "data": {
      "image/png": "[encoded data removed]",
      "text/plain": [
       "<Figure size 720x360 with 2 Axes>"
      ]
     },
     "metadata": {
      "needs_background": "light"
     },
     "output_type": "display_data"
    }
   ],
   "source": [
    "plt.figure(figsize=(10,5))\n",
    "sns.heatmap(hb.corr(), cmap='Blues' , annot=True)"
   ]
  },
  {
   "cell_type": "raw",
   "metadata": {},
   "source": [
    "Now, as we saw there are no null values, now we will look after the outliers and if present try to edradicate them."
   ]
  },
  {
   "cell_type": "code",
   "execution_count": 29,
   "metadata": {},
   "outputs": [
    {
     "data": {
      "image/png": "[encoded data removed]",
      "text/plain": [
       "<Figure size 432x288 with 1 Axes>"
      ]
     },
     "metadata": {
      "needs_background": "light"
     },
     "output_type": "display_data"
    }
   ],
   "source": [
    "plt.boxplot(hb.HeadSize)\n",
    "plt.show()"
   ]
  },
  {
   "cell_type": "code",
   "execution_count": 30,
   "metadata": {},
   "outputs": [
    {
     "data": {
      "text/plain": [
       "{'whiskers': [<matplotlib.lines.Line2D at 0xcaa7c08>,\n",
       "  <matplotlib.lines.Line2D at 0xcaa7d48>],\n",
       " 'caps': [<matplotlib.lines.Line2D at 0xcaad948>,\n",
       "  <matplotlib.lines.Line2D at 0xcaadec8>],\n",
       " 'boxes': [<matplotlib.lines.Line2D at 0xca9e0c8>],\n",
       " 'medians': [<matplotlib.lines.Line2D at 0xcaadfc8>],\n",
       " 'fliers': [<matplotlib.lines.Line2D at 0xcab29c8>],\n",
       " 'means': []}"
      ]
     },
     "execution_count": 30,
     "metadata": {},
     "output_type": "execute_result"
    },
    {
     "data": {
      "image/png": "[encoded data removed]",
      "text/plain": [
       "<Figure size 432x288 with 1 Axes>"
      ]
     },
     "metadata": {
      "needs_background": "light"
     },
     "output_type": "display_data"
    }
   ],
   "source": [
    "plt.boxplot(hb['BrainWeight'])"
   ]
  },
  {
   "cell_type": "markdown",
   "metadata": {},
   "source": [
    "As we can see there as few outliers, so we will remove them by importing the zscore."
   ]
  },
  {
   "cell_type": "code",
   "execution_count": 34,
   "metadata": {},
   "outputs": [
    {
     "name": "stdout",
     "output_type": "stream",
     "text": [
      "[[0.8767307  1.07449777 2.40886829 2.0579083 ]\n",
      " [0.8767307  1.07449777 0.28535333 0.11763692]\n",
      " [0.8767307  1.07449777 1.72023489 0.43407603]\n",
      " [0.8767307  1.07449777 0.39235214 0.00727325]\n",
      " [0.8767307  1.07449777 1.4897759  2.557549  ]\n",
      " [0.8767307  1.07449777 0.13441126 0.14261896]\n",
      " [0.8767307  1.07449777 0.41430062 0.97535345]\n",
      " [0.8767307  1.07449777 0.2057438  0.23211156]\n",
      " [0.8767307  1.07449777 0.05759159 0.60062293]\n",
      " [0.8767307  1.07449777 0.95478182 0.76716983]\n",
      " [0.8767307  1.07449777 0.52399669 0.47571276]\n",
      " [0.8767307  1.07449777 0.98496097 0.80880656]\n",
      " [0.8767307  1.07449777 0.01648451 0.60062293]\n",
      " [0.8767307  1.07449777 1.57482624 1.99128954]\n",
      " [0.8767307  1.07449777 0.54324791 0.62349678]\n",
      " [0.8767307  1.07449777 0.66396452 1.01699018]\n",
      " [0.8767307  1.07449777 0.37584448 0.62560497]\n",
      " [0.8767307  1.07449777 0.46089482 0.0760002 ]\n",
      " [0.8767307  1.07449777 1.47875536 0.47571276]\n",
      " [0.8767307  1.07449777 2.16743507 0.97535345]\n",
      " [0.8767307  1.07449777 0.66945164 0.61727762]\n",
      " [0.8767307  1.07449777 1.13036962 0.03436347]\n",
      " [0.8767307  1.07449777 0.46642825 0.06556467]\n",
      " [0.8767307  1.07449777 0.20853367 0.10720139]\n",
      " [0.8767307  1.07449777 3.05360475 2.93227952]\n",
      " [0.8767307  1.07449777 2.16469151 1.84972468]\n",
      " [0.8767307  1.07449777 1.10293403 1.7248145 ]\n",
      " [0.8767307  1.07449777 1.06452419 1.68317778]\n",
      " [0.8767307  1.07449777 0.49381754 0.22589241]\n",
      " [0.8767307  1.07449777 1.48428878 1.14190035]\n",
      " [0.8767307  1.07449777 0.41978774 0.29251117]\n",
      " [0.8767307  1.07449777 0.44447977 1.24182849]\n",
      " [0.8767307  1.07449777 1.28675251 0.67556904]\n",
      " [0.8767307  1.07449777 1.44587895 1.01699018]\n",
      " [0.8767307  1.07449777 1.43764827 1.24182849]\n",
      " [0.8767307  1.07449777 0.49386384 0.63182412]\n",
      " [0.8767307  1.07449777 0.2935377  0.76716983]\n",
      " [0.8767307  1.07449777 0.31278892 0.55898621]\n",
      " [0.8767307  1.07449777 0.82304466 0.39033112]\n",
      " [0.8767307  1.07449777 0.38956228 0.27374829]\n",
      " [0.8767307  1.07449777 0.89991063 0.55898621]\n",
      " [0.8767307  1.07449777 0.35389601 0.30916586]\n",
      " [0.8767307  1.07449777 1.8683871  2.01627157]\n",
      " [0.8767307  1.07449777 0.46642825 2.3910021 ]\n",
      " [0.8767307  1.07449777 0.62829825 0.47571276]\n",
      " [0.8767307  1.07449777 1.09744691 1.15855504]\n",
      " [0.8767307  1.07449777 1.84918218 1.85805202]\n",
      " [0.8767307  1.07449777 1.2867062  0.56520536]\n",
      " [0.8767307  1.07449777 0.01922807 0.23421975]\n",
      " [0.8767307  1.07449777 0.02745875 0.14261896]\n",
      " [0.8767307  1.07449777 0.70511792 0.49025926]\n",
      " [0.8767307  1.07449777 0.4362491  0.55898621]\n",
      " [0.8767307  1.07449777 1.74492692 0.43407603]\n",
      " [0.8767307  1.07449777 1.17701013 0.89208   ]\n",
      " [0.8767307  1.07449777 1.0370886  0.97535345]\n",
      " [0.8767307  1.07449777 0.4828433  0.48193191]\n",
      " [0.8767307  1.07449777 0.70237436 0.22589241]\n",
      " [0.8767307  0.93066736 1.45959675 2.30772865]\n",
      " [0.8767307  0.93066736 0.82583453 0.39243931]\n",
      " [0.8767307  0.93066736 0.09604773 0.50691395]\n",
      " [0.8767307  0.93066736 0.63652893 1.10026363]\n",
      " [0.8767307  0.93066736 0.66117466 0.89829916]\n",
      " [0.8767307  0.93066736 2.21681914 0.39243931]\n",
      " [0.8767307  0.93066736 1.69828641 1.68317778]\n",
      " [0.8767307  0.93066736 0.25517418 1.5582676 ]\n",
      " [0.8767307  0.93066736 0.83676246 1.23139296]\n",
      " [0.8767307  0.93066736 0.60081635 0.22589241]\n",
      " [0.8767307  0.93066736 0.71878941 1.07317341]\n",
      " [0.8767307  0.93066736 2.18389643 1.8913614 ]\n",
      " [0.8767307  0.93066736 2.04946202 1.10026363]\n",
      " [0.8767307  0.93066736 1.02611436 1.54161291]\n",
      " [0.8767307  0.93066736 0.61458046 0.89208   ]\n",
      " [0.8767307  0.93066736 1.33613657 0.80880656]\n",
      " [0.8767307  0.93066736 1.16054877 1.24182849]\n",
      " [0.8767307  0.93066736 0.52129944 0.35702174]\n",
      " [0.8767307  0.93066736 0.6584311  0.73175226]\n",
      " [0.8767307  0.93066736 0.20848736 0.48193191]\n",
      " [0.8767307  0.93066736 0.746225   0.79004368]\n",
      " [0.8767307  0.93066736 0.81211673 0.2570936 ]\n",
      " [0.8767307  0.93066736 0.55147859 0.26752913]\n",
      " [0.8767307  0.93066736 0.53776079 0.31538501]\n",
      " [0.8767307  0.93066736 0.60909334 1.2251738 ]\n",
      " [0.8767307  0.93066736 1.05624721 0.03225529]\n",
      " [0.8767307  0.93066736 0.15635973 0.31538501]\n",
      " [0.8767307  0.93066736 0.82034741 0.21756506]\n",
      " [0.8767307  0.93066736 0.59263198 1.07528159]\n",
      " [0.8767307  0.93066736 0.89163365 1.35630313]\n",
      " [0.8767307  0.93066736 0.62550839 0.52356864]\n",
      " [0.8767307  0.93066736 0.35115245 0.02392794]\n",
      " [0.8767307  0.93066736 0.74901487 1.30844725]\n",
      " [0.8767307  0.93066736 1.44313539 0.72553311]\n",
      " [0.8767307  0.93066736 0.86694161 0.7567343 ]\n",
      " [0.8767307  0.93066736 0.07684282 0.44029519]\n",
      " [0.8767307  0.93066736 0.72706639 0.52567683]\n",
      " [0.8767307  0.93066736 0.18109807 0.05934551]\n",
      " [0.8767307  0.93066736 0.39783926 0.98157261]\n",
      " [0.8767307  0.93066736 0.44168991 0.35702174]\n",
      " [0.8767307  0.93066736 0.3950494  1.25637499]\n",
      " [0.8767307  0.93066736 0.05489434 0.34036705]\n",
      " [0.8767307  0.93066736 0.42797211 0.10720139]\n",
      " [0.8767307  0.93066736 0.3813316  0.54022333]\n",
      " [0.8767307  0.93066736 0.54873503 1.2251738 ]\n",
      " [0.8767307  0.93066736 0.66396452 2.54089431]\n",
      " [0.8767307  0.93066736 0.07409926 0.30916586]\n",
      " [0.8767307  0.93066736 0.0438738  0.05934551]\n",
      " [0.8767307  0.93066736 0.03843298 0.19047484]\n",
      " [0.8767307  0.93066736 1.09195979 1.18353708]\n",
      " [0.8767307  0.93066736 0.6447133  0.47360457]\n",
      " [0.8767307  0.93066736 0.7737069  0.64225966]\n",
      " [0.8767307  0.93066736 2.18389643 2.80736935]\n",
      " [0.8767307  0.93066736 0.16738028 0.22589241]\n",
      " [0.8767307  0.93066736 0.30176838 0.27374829]\n",
      " [0.8767307  0.93066736 0.17282109 0.10098223]\n",
      " [0.8767307  0.93066736 0.10971922 0.05934551]\n",
      " [0.8767307  0.93066736 0.68861025 0.05934551]\n",
      " [0.8767307  0.93066736 0.37035736 0.06556467]\n",
      " [0.8767307  0.93066736 0.12343702 0.27374829]\n",
      " [0.8767307  0.93066736 0.72980995 0.10720139]\n",
      " [0.8767307  0.93066736 1.31693166 0.65891435]\n",
      " [0.8767307  0.93066736 0.83132165 0.14261896]\n",
      " [0.8767307  0.93066736 0.6447133  0.91495385]\n",
      " [0.8767307  0.93066736 1.55287777 0.22378422]\n",
      " [0.8767307  0.93066736 2.34302287 1.30844725]\n",
      " [0.8767307  0.93066736 0.05484804 0.85666244]\n",
      " [0.8767307  0.93066736 1.14408742 0.19258303]\n",
      " [0.8767307  0.93066736 0.40606994 0.55898621]\n",
      " [0.8767307  0.93066736 0.66666178 1.31466641]\n",
      " [0.8767307  0.93066736 1.39919214 0.98157261]\n",
      " [0.8767307  0.93066736 1.14957454 0.2425471 ]\n",
      " [0.8767307  0.93066736 0.14264194 0.14261896]\n",
      " [0.8767307  0.93066736 0.08781705 0.10720139]\n",
      " [0.8767307  0.93066736 0.27981991 0.43407603]\n",
      " [0.8767307  0.93066736 1.13036962 1.3917207 ]\n",
      " [0.8767307  0.93066736 0.09056061 0.22589241]\n",
      " [1.1406011  1.07449777 2.13172249 2.13074621]\n",
      " [1.1406011  1.07449777 0.54320161 0.39865846]\n",
      " [1.1406011  1.07449777 0.43076198 0.19047484]\n",
      " [1.1406011  1.07449777 0.91083856 0.98157261]\n",
      " [1.1406011  1.07449777 1.45406332 1.68939693]\n",
      " [1.1406011  1.07449777 1.27024484 1.29801172]\n",
      " [1.1406011  1.07449777 0.17007753 0.10720139]\n",
      " [1.1406011  1.07449777 0.28530702 0.2570936 ]\n",
      " [1.1406011  1.07449777 1.25927061 0.69011554]\n",
      " [1.1406011  1.07449777 0.53771449 0.05934551]\n",
      " [1.1406011  1.07449777 0.73804063 0.42574869]\n",
      " [1.1406011  1.07449777 0.72706639 0.80880656]\n",
      " [1.1406011  1.07449777 0.63922618 1.18975623]\n",
      " [1.1406011  1.07449777 1.00686314 0.3320397 ]\n",
      " [1.1406011  1.07449777 0.50204822 0.47571276]\n",
      " [1.1406011  1.07449777 1.49247315 0.95659058]\n",
      " [1.1406011  1.07449777 0.60630347 0.32582055]\n",
      " [1.1406011  1.07449777 0.85322382 0.28207563]\n",
      " [1.1406011  1.07449777 0.12622688 0.3174932 ]\n",
      " [1.1406011  1.07449777 0.53497093 0.7567343 ]\n",
      " [1.1406011  1.07449777 0.60086266 0.75051514]\n",
      " [1.1406011  1.07449777 1.31139823 0.93993589]\n",
      " [1.1406011  1.07449777 0.97394043 0.14883811]\n",
      " [1.1406011  1.07449777 0.20030299 0.39865846]\n",
      " [1.1406011  1.07449777 1.02062724 0.15927365]\n",
      " [1.1406011  1.07449777 1.00137602 0.34869439]\n",
      " [1.1406011  1.07449777 1.54460078 1.70605162]\n",
      " [1.1406011  1.07449777 0.39783926 1.97463485]\n",
      " [1.1406011  1.07449777 0.23592295 1.47499415]\n",
      " [1.1406011  1.07449777 0.93827416 1.73103366]\n",
      " [1.1406011  1.07449777 0.37584448 0.02392794]\n",
      " [1.1406011  1.07449777 1.51442163 0.85666244]\n",
      " [1.1406011  1.07449777 1.05899077 0.27374829]\n",
      " [1.1406011  1.07449777 0.75719924 0.77338899]\n",
      " [1.1406011  1.07449777 0.46368469 0.75884249]\n",
      " [1.1406011  1.07449777 0.18653889 0.19258303]\n",
      " [1.1406011  1.07449777 1.34157739 0.67346085]\n",
      " [1.1406011  1.07449777 0.35938313 0.35702174]\n",
      " [1.1406011  1.07449777 0.17282109 0.27585648]\n",
      " [1.1406011  1.07449777 0.2469435  0.02392794]\n",
      " [1.1406011  1.07449777 0.05210448 0.55898621]\n",
      " [1.1406011  1.07449777 1.18245094 0.85666244]\n",
      " [1.1406011  1.07449777 0.06856583 0.60684209]\n",
      " [1.1406011  1.07449777 0.20025668 1.29801172]\n",
      " [1.1406011  1.07449777 0.94655114 0.34247524]\n",
      " [1.1406011  1.07449777 0.27707635 0.60684209]\n",
      " [1.1406011  1.07449777 0.15091892 0.05934551]\n",
      " [1.1406011  1.07449777 1.30591112 1.52285003]\n",
      " [1.1406011  1.07449777 1.01788369 0.02392794]\n",
      " [1.1406011  1.07449777 1.24280925 0.89829916]\n",
      " [1.1406011  1.07449777 0.42522855 1.02320934]\n",
      " [1.1406011  1.07449777 0.02197163 0.64847881]\n",
      " [1.1406011  1.07449777 0.00546397 0.9982273 ]\n",
      " [1.1406011  0.93066736 1.5500879  2.17238294]\n",
      " [1.1406011  0.93066736 0.6584311  0.3320397 ]\n",
      " [1.1406011  0.93066736 0.18932875 0.55898621]\n",
      " [1.1406011  0.93066736 1.2867062  0.38200377]\n",
      " [1.1406011  0.93066736 0.76817348 0.65680616]\n",
      " [1.1406011  0.93066736 1.7393935  1.60612348]\n",
      " [1.1406011  0.93066736 0.1454318  0.60062293]\n",
      " [1.1406011  0.93066736 0.21397448 0.27374829]\n",
      " [1.1406011  0.93066736 2.36218148 1.72270631]\n",
      " [1.1406011  0.93066736 1.58026705 1.35630313]\n",
      " [1.1406011  0.93066736 0.79560907 0.52356864]\n",
      " [1.1406011  0.93066736 0.38681872 0.35702174]\n",
      " [1.1406011  0.93066736 0.92455636 0.52356864]\n",
      " [1.1406011  0.93066736 0.75171212 1.56448676]\n",
      " [1.1406011  0.93066736 1.11386196 0.39865846]\n",
      " [1.1406011  0.93066736 0.97942755 1.48121331]\n",
      " [1.1406011  0.93066736 0.59537554 1.01699018]\n",
      " [1.1406011  0.93066736 1.55557502 1.10648279]\n",
      " [1.1406011  0.93066736 0.1591496  0.18425568]\n",
      " [1.1406011  0.93066736 0.63648263 0.52356864]\n",
      " [1.1406011  0.93066736 0.99044809 0.10930958]\n",
      " [1.1406011  0.93066736 0.86694161 0.89829916]\n",
      " [1.1406011  0.93066736 2.50759013 2.73031505]\n",
      " [1.1406011  0.93066736 1.91223774 1.77267038]\n",
      " [1.1406011  0.93066736 0.14812905 0.30916586]\n",
      " [1.1406011  0.93066736 1.90675062 1.85594383]\n",
      " [1.1406011  0.93066736 1.76957265 1.27302968]\n",
      " [1.1406011  0.93066736 0.1316677  0.27374829]\n",
      " [1.1406011  0.93066736 1.31139823 0.48193191]\n",
      " [1.1406011  0.93066736 1.06447789 0.85666244]\n",
      " [1.1406011  0.93066736 1.2729884  0.87331713]\n",
      " [1.1406011  0.93066736 1.00411958 1.17310154]\n",
      " [1.1406011  0.93066736 0.6721489  1.27302968]\n",
      " [1.1406011  0.93066736 0.69409737 0.81502571]\n",
      " [1.1406011  0.93066736 2.11251758 2.25565639]\n",
      " [1.1406011  0.93066736 0.29084045 0.02392794]\n",
      " [1.1406011  0.93066736 0.42522855 1.497868  ]\n",
      " [1.1406011  0.93066736 0.03568942 1.04197221]\n",
      " [1.1406011  0.93066736 0.22499502 0.14261896]\n",
      " [1.1406011  0.93066736 0.96022263 0.30705767]\n",
      " [1.1406011  0.93066736 1.563852   0.80880656]\n",
      " [1.1406011  0.93066736 0.27712265 0.55898621]\n",
      " [1.1406011  0.93066736 1.14129755 1.85594383]\n",
      " [1.1406011  0.93066736 0.13994468 0.55898621]\n",
      " [1.1406011  0.93066736 0.19207231 0.52356864]\n",
      " [1.1406011  0.93066736 1.15227179 1.43957658]\n",
      " [1.1406011  0.93066736 0.6584311  0.56520536]\n",
      " [1.1406011  0.93066736 1.10014416 1.48954065]\n",
      " [1.1406011  0.93066736 0.77366059 0.93993589]\n",
      " [1.1406011  0.93066736 0.66666178 1.35630313]]\n",
      "\n",
      "\n"
     ]
    },
    {
     "data": {
      "text/html": [
       "<div>\n",
       "<style scoped>\n",
       "    .dataframe tbody tr th:only-of-type {\n",
       "        vertical-align: middle;\n",
       "    }\n",
       "\n",
       "    .dataframe tbody tr th {\n",
       "        vertical-align: top;\n",
       "    }\n",
       "\n",
       "    .dataframe thead th {\n",
       "        text-align: right;\n",
       "    }\n",
       "</style>\n",
       "<table border=\"1\" class=\"dataframe\">\n",
       "  <thead>\n",
       "    <tr style=\"text-align: right;\">\n",
       "      <th></th>\n",
       "      <th>Gender</th>\n",
       "      <th>AgeRange</th>\n",
       "      <th>HeadSize</th>\n",
       "      <th>BrainWeight</th>\n",
       "    </tr>\n",
       "  </thead>\n",
       "  <tbody>\n",
       "    <tr>\n",
       "      <th>0</th>\n",
       "      <td>1</td>\n",
       "      <td>1</td>\n",
       "      <td>4512</td>\n",
       "      <td>1530</td>\n",
       "    </tr>\n",
       "    <tr>\n",
       "      <th>1</th>\n",
       "      <td>1</td>\n",
       "      <td>1</td>\n",
       "      <td>3738</td>\n",
       "      <td>1297</td>\n",
       "    </tr>\n",
       "    <tr>\n",
       "      <th>2</th>\n",
       "      <td>1</td>\n",
       "      <td>1</td>\n",
       "      <td>4261</td>\n",
       "      <td>1335</td>\n",
       "    </tr>\n",
       "    <tr>\n",
       "      <th>3</th>\n",
       "      <td>1</td>\n",
       "      <td>1</td>\n",
       "      <td>3777</td>\n",
       "      <td>1282</td>\n",
       "    </tr>\n",
       "    <tr>\n",
       "      <th>4</th>\n",
       "      <td>1</td>\n",
       "      <td>1</td>\n",
       "      <td>4177</td>\n",
       "      <td>1590</td>\n",
       "    </tr>\n",
       "  </tbody>\n",
       "</table>\n",
       "</div>"
      ],
      "text/plain": [
       "   Gender  AgeRange  HeadSize  BrainWeight\n",
       "0       1         1      4512         1530\n",
       "1       1         1      3738         1297\n",
       "2       1         1      4261         1335\n",
       "3       1         1      3777         1282\n",
       "4       1         1      4177         1590"
      ]
     },
     "execution_count": 34,
     "metadata": {},
     "output_type": "execute_result"
    }
   ],
   "source": [
    "from scipy.stats import zscore\n",
    "z=np.abs(zscore(hb))\n",
    "print(z)\n",
    "print('\\n')\n",
    "hb_new=hb[(z<3).all(axis=1)]\n",
    "hb_new.head()"
   ]
  },
  {
   "cell_type": "code",
   "execution_count": 37,
   "metadata": {},
   "outputs": [
    {
     "name": "stdout",
     "output_type": "stream",
     "text": [
      "(237, 4)\n",
      "\n",
      "\n",
      "(236, 4)\n"
     ]
    }
   ],
   "source": [
    "print(hb.shape)\n",
    "print('\\n')\n",
    "print(hb_new.shape)"
   ]
  },
  {
   "cell_type": "code",
   "execution_count": 40,
   "metadata": {},
   "outputs": [],
   "source": [
    "x=hb['HeadSize']\n",
    "y=hb['BrainWeight']"
   ]
  },
  {
   "cell_type": "code",
   "execution_count": 66,
   "metadata": {},
   "outputs": [
    {
     "data": {
      "text/plain": [
       "(237,)"
      ]
     },
     "execution_count": 66,
     "metadata": {},
     "output_type": "execute_result"
    }
   ],
   "source": [
    "x.shape"
   ]
  },
  {
   "cell_type": "code",
   "execution_count": 67,
   "metadata": {},
   "outputs": [
    {
     "data": {
      "text/plain": [
       "(237,)"
      ]
     },
     "execution_count": 67,
     "metadata": {},
     "output_type": "execute_result"
    }
   ],
   "source": [
    "y.shape"
   ]
  },
  {
   "cell_type": "code",
   "execution_count": 86,
   "metadata": {},
   "outputs": [
    {
     "data": {
      "text/plain": [
       "array([[4512],\n",
       "       [3738],\n",
       "       [4261],\n",
       "       [3777],\n",
       "       [4177],\n",
       "       [3585],\n",
       "       [3785],\n",
       "       [3559],\n",
       "       [3613],\n",
       "       [3982],\n",
       "       [3443],\n",
       "       [3993],\n",
       "       [3640],\n",
       "       [4208],\n",
       "       [3832],\n",
       "       [3876],\n",
       "       [3497],\n",
       "       [3466],\n",
       "       [3095],\n",
       "       [4424],\n",
       "       [3878],\n",
       "       [4046],\n",
       "       [3804],\n",
       "       [3710],\n",
       "       [4747],\n",
       "       [4423],\n",
       "       [4036],\n",
       "       [4022],\n",
       "       [3454],\n",
       "       [4175],\n",
       "       [3787],\n",
       "       [3796],\n",
       "       [4103],\n",
       "       [4161],\n",
       "       [4158],\n",
       "       [3814],\n",
       "       [3527],\n",
       "       [3748],\n",
       "       [3334],\n",
       "       [3492],\n",
       "       [3962],\n",
       "       [3505],\n",
       "       [4315],\n",
       "       [3804],\n",
       "       [3863],\n",
       "       [4034],\n",
       "       [4308],\n",
       "       [3165],\n",
       "       [3641],\n",
       "       [3644],\n",
       "       [3891],\n",
       "       [3793],\n",
       "       [4270],\n",
       "       [4063],\n",
       "       [4012],\n",
       "       [3458],\n",
       "       [3890],\n",
       "       [4166],\n",
       "       [3935],\n",
       "       [3669],\n",
       "       [3866],\n",
       "       [3393],\n",
       "       [4442],\n",
       "       [4253],\n",
       "       [3727],\n",
       "       [3329],\n",
       "       [3415],\n",
       "       [3372],\n",
       "       [4430],\n",
       "       [4381],\n",
       "       [4008],\n",
       "       [3858],\n",
       "       [4121],\n",
       "       [4057],\n",
       "       [3824],\n",
       "       [3394],\n",
       "       [3558],\n",
       "       [3362],\n",
       "       [3930],\n",
       "       [3835],\n",
       "       [3830],\n",
       "       [3856],\n",
       "       [3249],\n",
       "       [3577],\n",
       "       [3933],\n",
       "       [3850],\n",
       "       [3309],\n",
       "       [3406],\n",
       "       [3506],\n",
       "       [3907],\n",
       "       [4160],\n",
       "       [3318],\n",
       "       [3662],\n",
       "       [3899],\n",
       "       [3700],\n",
       "       [3779],\n",
       "       [3473],\n",
       "       [3490],\n",
       "       [3654],\n",
       "       [3478],\n",
       "       [3495],\n",
       "       [3834],\n",
       "       [3876],\n",
       "       [3661],\n",
       "       [3618],\n",
       "       [3648],\n",
       "       [4032],\n",
       "       [3399],\n",
       "       [3916],\n",
       "       [4430],\n",
       "       [3695],\n",
       "       [3524],\n",
       "       [3571],\n",
       "       [3594],\n",
       "       [3383],\n",
       "       [3499],\n",
       "       [3589],\n",
       "       [3900],\n",
       "       [4114],\n",
       "       [3937],\n",
       "       [3399],\n",
       "       [4200],\n",
       "       [4488],\n",
       "       [3614],\n",
       "       [4051],\n",
       "       [3782],\n",
       "       [3391],\n",
       "       [3124],\n",
       "       [4053],\n",
       "       [3582],\n",
       "       [3666],\n",
       "       [3532],\n",
       "       [4046],\n",
       "       [3667],\n",
       "       [2857],\n",
       "       [3436],\n",
       "       [3791],\n",
       "       [3302],\n",
       "       [3104],\n",
       "       [3171],\n",
       "       [3572],\n",
       "       [3530],\n",
       "       [3175],\n",
       "       [3438],\n",
       "       [3903],\n",
       "       [3899],\n",
       "       [3401],\n",
       "       [3267],\n",
       "       [3451],\n",
       "       [3090],\n",
       "       [3413],\n",
       "       [3323],\n",
       "       [3680],\n",
       "       [3439],\n",
       "       [3853],\n",
       "       [3156],\n",
       "       [3279],\n",
       "       [3707],\n",
       "       [4006],\n",
       "       [3269],\n",
       "       [3071],\n",
       "       [3779],\n",
       "       [3548],\n",
       "       [3292],\n",
       "       [3497],\n",
       "       [3082],\n",
       "       [3248],\n",
       "       [3358],\n",
       "       [3803],\n",
       "       [3566],\n",
       "       [3145],\n",
       "       [3503],\n",
       "       [3571],\n",
       "       [3724],\n",
       "       [3615],\n",
       "       [3203],\n",
       "       [3609],\n",
       "       [3561],\n",
       "       [3979],\n",
       "       [3533],\n",
       "       [3689],\n",
       "       [3158],\n",
       "       [4005],\n",
       "       [3181],\n",
       "       [3479],\n",
       "       [3642],\n",
       "       [3632],\n",
       "       [3069],\n",
       "       [3394],\n",
       "       [3703],\n",
       "       [3165],\n",
       "       [3354],\n",
       "       [3000],\n",
       "       [3687],\n",
       "       [3556],\n",
       "       [2773],\n",
       "       [3058],\n",
       "       [3344],\n",
       "       [3493],\n",
       "       [3297],\n",
       "       [3360],\n",
       "       [3228],\n",
       "       [3277],\n",
       "       [3851],\n",
       "       [3067],\n",
       "       [3692],\n",
       "       [3402],\n",
       "       [3995],\n",
       "       [3318],\n",
       "       [2720],\n",
       "       [2937],\n",
       "       [3580],\n",
       "       [2939],\n",
       "       [2989],\n",
       "       [3586],\n",
       "       [3156],\n",
       "       [3246],\n",
       "       [3170],\n",
       "       [3268],\n",
       "       [3389],\n",
       "       [3381],\n",
       "       [2864],\n",
       "       [3740],\n",
       "       [3479],\n",
       "       [3647],\n",
       "       [3716],\n",
       "       [3284],\n",
       "       [4204],\n",
       "       [3735],\n",
       "       [3218],\n",
       "       [3685],\n",
       "       [3704],\n",
       "       [3214],\n",
       "       [3394],\n",
       "       [3233],\n",
       "       [3352],\n",
       "       [3391]], dtype=int64)"
      ]
     },
     "execution_count": 86,
     "metadata": {},
     "output_type": "execute_result"
    }
   ],
   "source": [
    "x.reshape(-1,1)"
   ]
  },
  {
   "cell_type": "code",
   "execution_count": null,
   "metadata": {},
   "outputs": [],
   "source": []
  },
  {
   "cell_type": "code",
   "execution_count": null,
   "metadata": {},
   "outputs": [],
   "source": []
  },
  {
   "cell_type": "code",
   "execution_count": null,
   "metadata": {},
   "outputs": [],
   "source": []
  },
  {
   "cell_type": "code",
   "execution_count": 84,
   "metadata": {},
   "outputs": [
    {
     "data": {
      "text/plain": [
       "array([[1530],\n",
       "       [1297],\n",
       "       [1335],\n",
       "       [1282],\n",
       "       [1590],\n",
       "       [1300],\n",
       "       [1400],\n",
       "       [1255],\n",
       "       [1355],\n",
       "       [1375],\n",
       "       [1340],\n",
       "       [1380],\n",
       "       [1355],\n",
       "       [1522],\n",
       "       [1208],\n",
       "       [1405],\n",
       "       [1358],\n",
       "       [1292],\n",
       "       [1340],\n",
       "       [1400],\n",
       "       [1357],\n",
       "       [1287],\n",
       "       [1275],\n",
       "       [1270],\n",
       "       [1635],\n",
       "       [1505],\n",
       "       [1490],\n",
       "       [1485],\n",
       "       [1310],\n",
       "       [1420],\n",
       "       [1318],\n",
       "       [1432],\n",
       "       [1364],\n",
       "       [1405],\n",
       "       [1432],\n",
       "       [1207],\n",
       "       [1375],\n",
       "       [1350],\n",
       "       [1236],\n",
       "       [1250],\n",
       "       [1350],\n",
       "       [1320],\n",
       "       [1525],\n",
       "       [1570],\n",
       "       [1340],\n",
       "       [1422],\n",
       "       [1506],\n",
       "       [1215],\n",
       "       [1311],\n",
       "       [1300],\n",
       "       [1224],\n",
       "       [1350],\n",
       "       [1335],\n",
       "       [1390],\n",
       "       [1400],\n",
       "       [1225],\n",
       "       [1310],\n",
       "       [1560],\n",
       "       [1330],\n",
       "       [1222],\n",
       "       [1415],\n",
       "       [1175],\n",
       "       [1330],\n",
       "       [1485],\n",
       "       [1470],\n",
       "       [1135],\n",
       "       [1310],\n",
       "       [1154],\n",
       "       [1510],\n",
       "       [1415],\n",
       "       [1468],\n",
       "       [1390],\n",
       "       [1380],\n",
       "       [1432],\n",
       "       [1240],\n",
       "       [1195],\n",
       "       [1225],\n",
       "       [1188],\n",
       "       [1252],\n",
       "       [1315],\n",
       "       [1245],\n",
       "       [1430],\n",
       "       [1279],\n",
       "       [1245],\n",
       "       [1309],\n",
       "       [1412],\n",
       "       [1120],\n",
       "       [1220],\n",
       "       [1280],\n",
       "       [1440],\n",
       "       [1370],\n",
       "       [1192],\n",
       "       [1230],\n",
       "       [1346],\n",
       "       [1290],\n",
       "       [1165],\n",
       "       [1240],\n",
       "       [1132],\n",
       "       [1242],\n",
       "       [1270],\n",
       "       [1218],\n",
       "       [1430],\n",
       "       [1588],\n",
       "       [1320],\n",
       "       [1290],\n",
       "       [1260],\n",
       "       [1425],\n",
       "       [1226],\n",
       "       [1360],\n",
       "       [1620],\n",
       "       [1310],\n",
       "       [1250],\n",
       "       [1295],\n",
       "       [1290],\n",
       "       [1290],\n",
       "       [1275],\n",
       "       [1250],\n",
       "       [1270],\n",
       "       [1362],\n",
       "       [1300],\n",
       "       [1173],\n",
       "       [1256],\n",
       "       [1440],\n",
       "       [1180],\n",
       "       [1306],\n",
       "       [1350],\n",
       "       [1125],\n",
       "       [1165],\n",
       "       [1312],\n",
       "       [1300],\n",
       "       [1270],\n",
       "       [1335],\n",
       "       [1450],\n",
       "       [1310],\n",
       "       [1027],\n",
       "       [1235],\n",
       "       [1260],\n",
       "       [1165],\n",
       "       [1080],\n",
       "       [1127],\n",
       "       [1270],\n",
       "       [1252],\n",
       "       [1200],\n",
       "       [1290],\n",
       "       [1334],\n",
       "       [1380],\n",
       "       [1140],\n",
       "       [1243],\n",
       "       [1340],\n",
       "       [1168],\n",
       "       [1322],\n",
       "       [1249],\n",
       "       [1321],\n",
       "       [1192],\n",
       "       [1373],\n",
       "       [1170],\n",
       "       [1265],\n",
       "       [1235],\n",
       "       [1302],\n",
       "       [1241],\n",
       "       [1078],\n",
       "       [1520],\n",
       "       [1460],\n",
       "       [1075],\n",
       "       [1280],\n",
       "       [1180],\n",
       "       [1250],\n",
       "       [1190],\n",
       "       [1374],\n",
       "       [1306],\n",
       "       [1202],\n",
       "       [1240],\n",
       "       [1316],\n",
       "       [1280],\n",
       "       [1350],\n",
       "       [1180],\n",
       "       [1210],\n",
       "       [1127],\n",
       "       [1324],\n",
       "       [1210],\n",
       "       [1290],\n",
       "       [1100],\n",
       "       [1280],\n",
       "       [1175],\n",
       "       [1160],\n",
       "       [1205],\n",
       "       [1163],\n",
       "       [1022],\n",
       "       [1243],\n",
       "       [1350],\n",
       "       [1237],\n",
       "       [1204],\n",
       "       [1090],\n",
       "       [1355],\n",
       "       [1250],\n",
       "       [1076],\n",
       "       [1120],\n",
       "       [1220],\n",
       "       [1240],\n",
       "       [1220],\n",
       "       [1095],\n",
       "       [1235],\n",
       "       [1105],\n",
       "       [1405],\n",
       "       [1150],\n",
       "       [1305],\n",
       "       [1220],\n",
       "       [1296],\n",
       "       [1175],\n",
       "       [ 955],\n",
       "       [1070],\n",
       "       [1320],\n",
       "       [1060],\n",
       "       [1130],\n",
       "       [1250],\n",
       "       [1225],\n",
       "       [1180],\n",
       "       [1178],\n",
       "       [1142],\n",
       "       [1130],\n",
       "       [1185],\n",
       "       [1012],\n",
       "       [1280],\n",
       "       [1103],\n",
       "       [1408],\n",
       "       [1300],\n",
       "       [1246],\n",
       "       [1380],\n",
       "       [1350],\n",
       "       [1060],\n",
       "       [1350],\n",
       "       [1220],\n",
       "       [1110],\n",
       "       [1215],\n",
       "       [1104],\n",
       "       [1170],\n",
       "       [1120]], dtype=int64)"
      ]
     },
     "execution_count": 84,
     "metadata": {},
     "output_type": "execute_result"
    }
   ],
   "source": [
    "y.values.reshape(-1,1)"
   ]
  },
  {
   "cell_type": "code",
   "execution_count": null,
   "metadata": {},
   "outputs": [],
   "source": []
  },
  {
   "cell_type": "code",
   "execution_count": null,
   "metadata": {},
   "outputs": [],
   "source": []
  },
  {
   "cell_type": "code",
   "execution_count": 87,
   "metadata": {},
   "outputs": [
    {
     "data": {
      "text/plain": [
       "array([[ 2.40886829],\n",
       "       [ 0.28535333],\n",
       "       [ 1.72023489],\n",
       "       [ 0.39235214],\n",
       "       [ 1.4897759 ],\n",
       "       [-0.13441126],\n",
       "       [ 0.41430062],\n",
       "       [-0.2057438 ],\n",
       "       [-0.05759159],\n",
       "       [ 0.95478182],\n",
       "       [-0.52399669],\n",
       "       [ 0.98496097],\n",
       "       [ 0.01648451],\n",
       "       [ 1.57482624],\n",
       "       [ 0.54324791],\n",
       "       [ 0.66396452],\n",
       "       [-0.37584448],\n",
       "       [-0.46089482],\n",
       "       [-1.47875536],\n",
       "       [ 2.16743507],\n",
       "       [ 0.66945164],\n",
       "       [ 1.13036962],\n",
       "       [ 0.46642825],\n",
       "       [ 0.20853367],\n",
       "       [ 3.05360475],\n",
       "       [ 2.16469151],\n",
       "       [ 1.10293403],\n",
       "       [ 1.06452419],\n",
       "       [-0.49381754],\n",
       "       [ 1.48428878],\n",
       "       [ 0.41978774],\n",
       "       [ 0.44447977],\n",
       "       [ 1.28675251],\n",
       "       [ 1.44587895],\n",
       "       [ 1.43764827],\n",
       "       [ 0.49386384],\n",
       "       [-0.2935377 ],\n",
       "       [ 0.31278892],\n",
       "       [-0.82304466],\n",
       "       [-0.38956228],\n",
       "       [ 0.89991063],\n",
       "       [-0.35389601],\n",
       "       [ 1.8683871 ],\n",
       "       [ 0.46642825],\n",
       "       [ 0.62829825],\n",
       "       [ 1.09744691],\n",
       "       [ 1.84918218],\n",
       "       [-1.2867062 ],\n",
       "       [ 0.01922807],\n",
       "       [ 0.02745875],\n",
       "       [ 0.70511792],\n",
       "       [ 0.4362491 ],\n",
       "       [ 1.74492692],\n",
       "       [ 1.17701013],\n",
       "       [ 1.0370886 ],\n",
       "       [-0.4828433 ],\n",
       "       [ 0.70237436],\n",
       "       [ 1.45959675],\n",
       "       [ 0.82583453],\n",
       "       [ 0.09604773],\n",
       "       [ 0.63652893],\n",
       "       [-0.66117466],\n",
       "       [ 2.21681914],\n",
       "       [ 1.69828641],\n",
       "       [ 0.25517418],\n",
       "       [-0.83676246],\n",
       "       [-0.60081635],\n",
       "       [-0.71878941],\n",
       "       [ 2.18389643],\n",
       "       [ 2.04946202],\n",
       "       [ 1.02611436],\n",
       "       [ 0.61458046],\n",
       "       [ 1.33613657],\n",
       "       [ 1.16054877],\n",
       "       [ 0.52129944],\n",
       "       [-0.6584311 ],\n",
       "       [-0.20848736],\n",
       "       [-0.746225  ],\n",
       "       [ 0.81211673],\n",
       "       [ 0.55147859],\n",
       "       [ 0.53776079],\n",
       "       [ 0.60909334],\n",
       "       [-1.05624721],\n",
       "       [-0.15635973],\n",
       "       [ 0.82034741],\n",
       "       [ 0.59263198],\n",
       "       [-0.89163365],\n",
       "       [-0.62550839],\n",
       "       [-0.35115245],\n",
       "       [ 0.74901487],\n",
       "       [ 1.44313539],\n",
       "       [-0.86694161],\n",
       "       [ 0.07684282],\n",
       "       [ 0.72706639],\n",
       "       [ 0.18109807],\n",
       "       [ 0.39783926],\n",
       "       [-0.44168991],\n",
       "       [-0.3950494 ],\n",
       "       [ 0.05489434],\n",
       "       [-0.42797211],\n",
       "       [-0.3813316 ],\n",
       "       [ 0.54873503],\n",
       "       [ 0.66396452],\n",
       "       [ 0.07409926],\n",
       "       [-0.0438738 ],\n",
       "       [ 0.03843298],\n",
       "       [ 1.09195979],\n",
       "       [-0.6447133 ],\n",
       "       [ 0.7737069 ],\n",
       "       [ 2.18389643],\n",
       "       [ 0.16738028],\n",
       "       [-0.30176838],\n",
       "       [-0.17282109],\n",
       "       [-0.10971922],\n",
       "       [-0.68861025],\n",
       "       [-0.37035736],\n",
       "       [-0.12343702],\n",
       "       [ 0.72980995],\n",
       "       [ 1.31693166],\n",
       "       [ 0.83132165],\n",
       "       [-0.6447133 ],\n",
       "       [ 1.55287777],\n",
       "       [ 2.34302287],\n",
       "       [-0.05484804],\n",
       "       [ 1.14408742],\n",
       "       [ 0.40606994],\n",
       "       [-0.66666178],\n",
       "       [-1.39919214],\n",
       "       [ 1.14957454],\n",
       "       [-0.14264194],\n",
       "       [ 0.08781705],\n",
       "       [-0.27981991],\n",
       "       [ 1.13036962],\n",
       "       [ 0.09056061],\n",
       "       [-2.13172249],\n",
       "       [-0.54320161],\n",
       "       [ 0.43076198],\n",
       "       [-0.91083856],\n",
       "       [-1.45406332],\n",
       "       [-1.27024484],\n",
       "       [-0.17007753],\n",
       "       [-0.28530702],\n",
       "       [-1.25927061],\n",
       "       [-0.53771449],\n",
       "       [ 0.73804063],\n",
       "       [ 0.72706639],\n",
       "       [-0.63922618],\n",
       "       [-1.00686314],\n",
       "       [-0.50204822],\n",
       "       [-1.49247315],\n",
       "       [-0.60630347],\n",
       "       [-0.85322382],\n",
       "       [ 0.12622688],\n",
       "       [-0.53497093],\n",
       "       [ 0.60086266],\n",
       "       [-1.31139823],\n",
       "       [-0.97394043],\n",
       "       [ 0.20030299],\n",
       "       [ 1.02062724],\n",
       "       [-1.00137602],\n",
       "       [-1.54460078],\n",
       "       [ 0.39783926],\n",
       "       [-0.23592295],\n",
       "       [-0.93827416],\n",
       "       [-0.37584448],\n",
       "       [-1.51442163],\n",
       "       [-1.05899077],\n",
       "       [-0.75719924],\n",
       "       [ 0.46368469],\n",
       "       [-0.18653889],\n",
       "       [-1.34157739],\n",
       "       [-0.35938313],\n",
       "       [-0.17282109],\n",
       "       [ 0.2469435 ],\n",
       "       [-0.05210448],\n",
       "       [-1.18245094],\n",
       "       [-0.06856583],\n",
       "       [-0.20025668],\n",
       "       [ 0.94655114],\n",
       "       [-0.27707635],\n",
       "       [ 0.15091892],\n",
       "       [-1.30591112],\n",
       "       [ 1.01788369],\n",
       "       [-1.24280925],\n",
       "       [-0.42522855],\n",
       "       [ 0.02197163],\n",
       "       [-0.00546397],\n",
       "       [-1.5500879 ],\n",
       "       [-0.6584311 ],\n",
       "       [ 0.18932875],\n",
       "       [-1.2867062 ],\n",
       "       [-0.76817348],\n",
       "       [-1.7393935 ],\n",
       "       [ 0.1454318 ],\n",
       "       [-0.21397448],\n",
       "       [-2.36218148],\n",
       "       [-1.58026705],\n",
       "       [-0.79560907],\n",
       "       [-0.38681872],\n",
       "       [-0.92455636],\n",
       "       [-0.75171212],\n",
       "       [-1.11386196],\n",
       "       [-0.97942755],\n",
       "       [ 0.59537554],\n",
       "       [-1.55557502],\n",
       "       [ 0.1591496 ],\n",
       "       [-0.63648263],\n",
       "       [ 0.99044809],\n",
       "       [-0.86694161],\n",
       "       [-2.50759013],\n",
       "       [-1.91223774],\n",
       "       [-0.14812905],\n",
       "       [-1.90675062],\n",
       "       [-1.76957265],\n",
       "       [-0.1316677 ],\n",
       "       [-1.31139823],\n",
       "       [-1.06447789],\n",
       "       [-1.2729884 ],\n",
       "       [-1.00411958],\n",
       "       [-0.6721489 ],\n",
       "       [-0.69409737],\n",
       "       [-2.11251758],\n",
       "       [ 0.29084045],\n",
       "       [-0.42522855],\n",
       "       [ 0.03568942],\n",
       "       [ 0.22499502],\n",
       "       [-0.96022263],\n",
       "       [ 1.563852  ],\n",
       "       [ 0.27712265],\n",
       "       [-1.14129755],\n",
       "       [ 0.13994468],\n",
       "       [ 0.19207231],\n",
       "       [-1.15227179],\n",
       "       [-0.6584311 ],\n",
       "       [-1.10014416],\n",
       "       [-0.77366059],\n",
       "       [-0.66666178]])"
      ]
     },
     "execution_count": 87,
     "metadata": {},
     "output_type": "execute_result"
    }
   ],
   "source": [
    "from sklearn.preprocessing import StandardScaler\n",
    "\n",
    "sc=StandardScaler()\n",
    "x=sc.fit_transform(x)\n",
    "x"
   ]
  },
  {
   "cell_type": "code",
   "execution_count": null,
   "metadata": {},
   "outputs": [],
   "source": []
  },
  {
   "cell_type": "code",
   "execution_count": 92,
   "metadata": {},
   "outputs": [
    {
     "name": "stdout",
     "output_type": "stream",
     "text": [
      "r2score corresponding to r_state 42 r2score is 0.7149168473012073\n",
      "r2score corresponding to r_state 43 r2score is 0.6404165530671617\n",
      "r2score corresponding to r_state 44 r2score is 0.6530109688762358\n",
      "r2score corresponding to r_state 45 r2score is 0.6939862623941999\n",
      "r2score corresponding to r_state 46 r2score is 0.5332650244375814\n",
      "r2score corresponding to r_state 47 r2score is 0.6201411206780885\n",
      "r2score corresponding to r_state 48 r2score is 0.6851449361873334\n",
      "r2score corresponding to r_state 49 r2score is 0.6433491336855988\n",
      "r2score corresponding to r_state 50 r2score is 0.7683161771318533\n",
      "r2score corresponding to r_state 51 r2score is 0.5935686929145347\n",
      "r2score corresponding to r_state 52 r2score is 0.6342022687682458\n",
      "r2score corresponding to r_state 53 r2score is 0.5909146568147446\n",
      "r2score corresponding to r_state 54 r2score is 0.613033190538937\n",
      "r2score corresponding to r_state 55 r2score is 0.5884150240645216\n",
      "r2score corresponding to r_state 56 r2score is 0.7399588791116045\n",
      "r2score corresponding to r_state 57 r2score is 0.5071803243347979\n",
      "r2score corresponding to r_state 58 r2score is 0.6123621922042877\n",
      "r2score corresponding to r_state 59 r2score is 0.7318498972427991\n",
      "r2score corresponding to r_state 60 r2score is 0.670702983531536\n",
      "r2score corresponding to r_state 61 r2score is 0.6107719657611237\n",
      "r2score corresponding to r_state 62 r2score is 0.5886035640681522\n",
      "r2score corresponding to r_state 63 r2score is 0.6677040991373102\n",
      "r2score corresponding to r_state 64 r2score is 0.6296914854979072\n",
      "r2score corresponding to r_state 65 r2score is 0.71647493474892\n",
      "r2score corresponding to r_state 66 r2score is 0.6203738753194061\n",
      "r2score corresponding to r_state 67 r2score is 0.712612390279983\n",
      "r2score corresponding to r_state 68 r2score is 0.6576566589195091\n",
      "r2score corresponding to r_state 69 r2score is 0.6703630883745615\n",
      "r2score corresponding to r_state 70 r2score is 0.5891175986445865\n",
      "r2score corresponding to r_state 71 r2score is 0.6417613976759238\n",
      "r2score corresponding to r_state 72 r2score is 0.5463136037595998\n",
      "r2score corresponding to r_state 73 r2score is 0.5045543063528726\n",
      "r2score corresponding to r_state 74 r2score is 0.6908546939589804\n",
      "r2score corresponding to r_state 75 r2score is 0.5839986897763758\n",
      "r2score corresponding to r_state 76 r2score is 0.5842914878403355\n",
      "r2score corresponding to r_state 77 r2score is 0.66166348734816\n",
      "r2score corresponding to r_state 78 r2score is 0.6473967116879223\n",
      "r2score corresponding to r_state 79 r2score is 0.7378058902454341\n",
      "r2score corresponding to r_state 80 r2score is 0.31163981871623503\n",
      "r2score corresponding to r_state 81 r2score is 0.6287492712541898\n",
      "r2score corresponding to r_state 82 r2score is 0.5498061635931801\n",
      "r2score corresponding to r_state 83 r2score is 0.742689268036727\n",
      "r2score corresponding to r_state 84 r2score is 0.6841481547920669\n",
      "r2score corresponding to r_state 85 r2score is 0.6839611629631983\n",
      "r2score corresponding to r_state 86 r2score is 0.5705188355104969\n",
      "r2score corresponding to r_state 87 r2score is 0.5235044952071041\n",
      "r2score corresponding to r_state 88 r2score is 0.521218236230014\n",
      "r2score corresponding to r_state 89 r2score is 0.6647722042837871\n",
      "r2score corresponding to r_state 90 r2score is 0.692591428371049\n",
      "r2score corresponding to r_state 91 r2score is 0.7602597914098644\n",
      "r2score corresponding to r_state 92 r2score is 0.7279273279367925\n",
      "r2score corresponding to r_state 93 r2score is 0.6673454912138065\n",
      "r2score corresponding to r_state 94 r2score is 0.6801980030607431\n",
      "r2score corresponding to r_state 95 r2score is 0.44961695878564867\n",
      "r2score corresponding to r_state 96 r2score is 0.6854497779131984\n",
      "r2score corresponding to r_state 97 r2score is 0.5090577072170102\n",
      "r2score corresponding to r_state 98 r2score is 0.4944064453867716\n",
      "r2score corresponding to r_state 99 r2score is 0.5312933151260452\n",
      "r2score corresponding to r_state 100 r2score is 0.6887976995086573\n",
      "\n",
      "\n",
      "max rscore corresponding to 50 is 0.7683161771318533\n"
     ]
    }
   ],
   "source": [
    "from sklearn.model_selection import train_test_split\n",
    "from sklearn.metrics import mean_squared_error, mean_absolute_error, r2_score\n",
    "from sklearn.linear_model import LinearRegression\n",
    "max_rscore=0\n",
    "for r_state in range(42,101):\n",
    "    x_train,x_test,y_train,y_test=train_test_split(x,y, random_state=r_state, test_size=0.2)\n",
    "    lr=LinearRegression()\n",
    "    lr.fit(x_train,y_train)\n",
    "    y_pred=lr.predict(x_test)\n",
    "    r2_scr=r2_score(y_test, y_pred)\n",
    "    print('r2score corresponding to r_state', r_state, 'r2score is',r2_scr)\n",
    "    if r2_scr>max_rscore:\n",
    "        max_rscore=r2_scr\n",
    "        final_rstate=r_state\n",
    "        \n",
    "print('\\n')\n",
    "print('max rscore corresponding to', final_rstate, 'is', max_rscore)\n",
    "        \n",
    "    "
   ]
  },
  {
   "cell_type": "code",
   "execution_count": 94,
   "metadata": {},
   "outputs": [
    {
     "data": {
      "text/plain": [
       "0.4936984443261272"
      ]
     },
     "execution_count": 94,
     "metadata": {},
     "output_type": "execute_result"
    }
   ],
   "source": [
    "from sklearn.model_selection import cross_val_score\n",
    "cross_val_score(lr,x,y,cv=5, scoring='r2').mean()"
   ]
  },
  {
   "cell_type": "code",
   "execution_count": null,
   "metadata": {},
   "outputs": [],
   "source": [
    "x_train,x_test,y_train,y_test=train_test_split(x,y, random_state=50, test_size=0.2)\n",
    "lr=LinearRegression()\n",
    "lr.fit(x_train,y_train)\n",
    "y_pred=lr.predict(x_test)"
   ]
  },
  {
   "cell_type": "code",
   "execution_count": 96,
   "metadata": {},
   "outputs": [
    {
     "name": "stdout",
     "output_type": "stream",
     "text": [
      "r2_score is 0.6887976995086573\n",
      "RMSE is 68.91391804194132\n"
     ]
    }
   ],
   "source": [
    "from sklearn.metrics import mean_squared_error, mean_absolute_error, r2_score\n",
    "import numpy as np\n",
    "print('r2_score is', r2_score(y_test,y_pred))\n",
    "print('RMSE is', np.sqrt(mean_squared_error(y_test, y_pred)))"
   ]
  },
  {
   "cell_type": "code",
   "execution_count": 97,
   "metadata": {},
   "outputs": [
    {
     "name": "stderr",
     "output_type": "stream",
     "text": [
      "C:\\Users\\DELL\\anaconda3\\lib\\site-packages\\sklearn\\externals\\joblib\\__init__.py:15: FutureWarning: sklearn.externals.joblib is deprecated in 0.21 and will be removed in 0.23. Please import this functionality directly from joblib, which can be installed with: pip install joblib. If this warning is raised when loading pickled models, you may need to re-serialize those models with scikit-learn 0.21+.\n",
      "  warnings.warn(msg, category=FutureWarning)\n"
     ]
    },
    {
     "data": {
      "text/plain": [
       "['lr_Headbrain.pkl']"
      ]
     },
     "execution_count": 97,
     "metadata": {},
     "output_type": "execute_result"
    }
   ],
   "source": [
    "from sklearn.externals import joblib\n",
    "joblib.dump(lr,'lr_Headbrain.pkl')"
   ]
  },
  {
   "cell_type": "code",
   "execution_count": null,
   "metadata": {},
   "outputs": [],
   "source": []
  },
  {
   "cell_type": "code",
   "execution_count": null,
   "metadata": {},
   "outputs": [],
   "source": []
  },
  {
   "cell_type": "code",
   "execution_count": null,
   "metadata": {},
   "outputs": [],
   "source": []
  },
  {
   "cell_type": "code",
   "execution_count": null,
   "metadata": {},
   "outputs": [],
   "source": []
  },
  {
   "cell_type": "code",
   "execution_count": null,
   "metadata": {},
   "outputs": [],
   "source": []
  },
  {
   "cell_type": "code",
   "execution_count": null,
   "metadata": {},
   "outputs": [],
   "source": []
  },
  {
   "cell_type": "code",
   "execution_count": null,
   "metadata": {},
   "outputs": [],
   "source": []
  },
  {
   "cell_type": "code",
   "execution_count": null,
   "metadata": {},
   "outputs": [],
   "source": []
  },
  {
   "cell_type": "code",
   "execution_count": null,
   "metadata": {},
   "outputs": [],
   "source": []
  },
  {
   "cell_type": "code",
   "execution_count": null,
   "metadata": {},
   "outputs": [],
   "source": []
  },
  {
   "cell_type": "code",
   "execution_count": null,
   "metadata": {},
   "outputs": [],
   "source": []
  },
  {
   "cell_type": "code",
   "execution_count": null,
   "metadata": {},
   "outputs": [],
   "source": []
  },
  {
   "cell_type": "code",
   "execution_count": null,
   "metadata": {},
   "outputs": [],
   "source": []
  },
  {
   "cell_type": "code",
   "execution_count": null,
   "metadata": {},
   "outputs": [],
   "source": []
  },
  {
   "cell_type": "code",
   "execution_count": null,
   "metadata": {},
   "outputs": [],
   "source": []
  },
  {
   "cell_type": "code",
   "execution_count": null,
   "metadata": {},
   "outputs": [],
   "source": []
  },
  {
   "cell_type": "code",
   "execution_count": null,
   "metadata": {},
   "outputs": [],
   "source": []
  },
  {
   "cell_type": "code",
   "execution_count": null,
   "metadata": {},
   "outputs": [],
   "source": []
  },
  {
   "cell_type": "code",
   "execution_count": null,
   "metadata": {},
   "outputs": [],
   "source": []
  },
  {
   "cell_type": "code",
   "execution_count": null,
   "metadata": {},
   "outputs": [],
   "source": []
  },
  {
   "cell_type": "code",
   "execution_count": null,
   "metadata": {},
   "outputs": [],
   "source": []
  },
  {
   "cell_type": "code",
   "execution_count": null,
   "metadata": {},
   "outputs": [],
   "source": []
  },
  {
   "cell_type": "code",
   "execution_count": null,
   "metadata": {},
   "outputs": [],
   "source": []
  },
  {
   "cell_type": "code",
   "execution_count": null,
   "metadata": {},
   "outputs": [],
   "source": []
  },
  {
   "cell_type": "code",
   "execution_count": null,
   "metadata": {},
   "outputs": [],
   "source": []
  },
  {
   "cell_type": "code",
   "execution_count": null,
   "metadata": {},
   "outputs": [],
   "source": []
  },
  {
   "cell_type": "code",
   "execution_count": null,
   "metadata": {},
   "outputs": [],
   "source": []
  },
  {
   "cell_type": "code",
   "execution_count": null,
   "metadata": {},
   "outputs": [],
   "source": []
  },
  {
   "cell_type": "code",
   "execution_count": null,
   "metadata": {},
   "outputs": [],
   "source": []
  },
  {
   "cell_type": "code",
   "execution_count": null,
   "metadata": {},
   "outputs": [],
   "source": []
  },
  {
   "cell_type": "code",
   "execution_count": null,
   "metadata": {},
   "outputs": [],
   "source": []
  },
  {
   "cell_type": "code",
   "execution_count": null,
   "metadata": {},
   "outputs": [],
   "source": []
  },
  {
   "cell_type": "code",
   "execution_count": null,
   "metadata": {},
   "outputs": [],
   "source": []
  },
  {
   "cell_type": "code",
   "execution_count": null,
   "metadata": {},
   "outputs": [],
   "source": []
  },
  {
   "cell_type": "code",
   "execution_count": null,
   "metadata": {},
   "outputs": [],
   "source": []
  },
  {
   "cell_type": "code",
   "execution_count": null,
   "metadata": {},
   "outputs": [],
   "source": []
  },
  {
   "cell_type": "code",
   "execution_count": null,
   "metadata": {},
   "outputs": [],
   "source": []
  },
  {
   "cell_type": "code",
   "execution_count": null,
   "metadata": {},
   "outputs": [],
   "source": []
  },
  {
   "cell_type": "code",
   "execution_count": null,
   "metadata": {},
   "outputs": [],
   "source": []
  }
 ],
 "metadata": {
  "kernelspec": {
   "display_name": "Python 3",
   "language": "python",
   "name": "python3"
  },
  "language_info": {
   "codemirror_mode": {
    "name": "ipython",
    "version": 3
   },
   "file_extension": ".py",
   "mimetype": "text/x-python",
   "name": "python",
   "nbconvert_exporter": "python",
   "pygments_lexer": "ipython3",
   "version": "3.7.6"
  }
 },
 "nbformat": 4,
 "nbformat_minor": 4
}
